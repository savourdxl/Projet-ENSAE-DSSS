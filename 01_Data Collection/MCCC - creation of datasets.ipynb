{
 "cells": [
  {
   "cell_type": "markdown",
   "metadata": {},
   "source": [
    "# Media coverage and climate change: datasets creation"
   ]
  },
  {
   "cell_type": "markdown",
   "metadata": {},
   "source": [
    "The raw datasets we import here can be found in the 'data collection/data_raw_final' folder of the github repository."
   ]
  },
  {
   "cell_type": "code",
   "execution_count": 1,
   "metadata": {
    "scrolled": true
   },
   "outputs": [
    {
     "name": "stderr",
     "output_type": "stream",
     "text": [
      "C:\\Users\\Alexandrine\\anaconda3\\lib\\site-packages\\pandas\\core\\computation\\expressions.py:20: UserWarning: Pandas requires version '2.7.3' or newer of 'numexpr' (version '2.7.1' currently installed).\n",
      "  from pandas.core.computation.check import NUMEXPR_INSTALLED\n"
     ]
    }
   ],
   "source": [
    "import pandas as pd\n",
    "import numpy as np\n",
    "import glob\n",
    "import os"
   ]
  },
  {
   "cell_type": "markdown",
   "metadata": {},
   "source": [
    "### Le Monde"
   ]
  },
  {
   "cell_type": "code",
   "execution_count": 6,
   "metadata": {},
   "outputs": [],
   "source": [
    "# import data\n",
    "\n",
    "lemonde = pd.read_csv('Le Monde.csv')\n",
    "\n",
    "# convert dates to datetime type\n",
    "lemonde['date'] = pd.to_datetime(lemonde['date'])\n",
    "\n",
    "# sort by date\n",
    "lemonde.sort_values(by='date', inplace = True) \n",
    "\n",
    "# drop unuseful columns\n",
    "del lemonde['Unnamed: 0']"
   ]
  },
  {
   "cell_type": "code",
   "execution_count": 7,
   "metadata": {},
   "outputs": [
    {
     "data": {
      "text/html": [
       "<div>\n",
       "<style scoped>\n",
       "    .dataframe tbody tr th:only-of-type {\n",
       "        vertical-align: middle;\n",
       "    }\n",
       "\n",
       "    .dataframe tbody tr th {\n",
       "        vertical-align: top;\n",
       "    }\n",
       "\n",
       "    .dataframe thead th {\n",
       "        text-align: right;\n",
       "    }\n",
       "</style>\n",
       "<table border=\"1\" class=\"dataframe\">\n",
       "  <thead>\n",
       "    <tr style=\"text-align: right;\">\n",
       "      <th></th>\n",
       "      <th>date</th>\n",
       "      <th>publication</th>\n",
       "      <th>words</th>\n",
       "      <th>author</th>\n",
       "      <th>title</th>\n",
       "      <th>intro</th>\n",
       "    </tr>\n",
       "  </thead>\n",
       "  <tbody>\n",
       "    <tr>\n",
       "      <th>0</th>\n",
       "      <td>2013-01-05</td>\n",
       "      <td>Le Monde</td>\n",
       "      <td>401mots</td>\n",
       "      <td>Pierre Le Hir</td>\n",
       "      <td>Avec le réchauffement, les tourbières se trans...</td>\n",
       "      <td>...  pourraient se comporter non plus en pui...</td>\n",
       "    </tr>\n",
       "    <tr>\n",
       "      <th>1</th>\n",
       "      <td>2013-01-11</td>\n",
       "      <td>Le Monde</td>\n",
       "      <td>1066mots</td>\n",
       "      <td>Propos recueillis par Marie-Béatrice Baudet, D...</td>\n",
       "      <td>Christophe de Margerie : « Le changement clima...</td>\n",
       "      <td>...  population mondiale, 2 % des énergies p...</td>\n",
       "    </tr>\n",
       "    <tr>\n",
       "      <th>2</th>\n",
       "      <td>2013-01-16</td>\n",
       "      <td>Le Monde</td>\n",
       "      <td>324mots</td>\n",
       "      <td>P. L. H.</td>\n",
       "      <td>Transition énergétique : le clair-obscur de l'...</td>\n",
       "      <td>...  la transition énergétique n'a de vrai s...</td>\n",
       "    </tr>\n",
       "  </tbody>\n",
       "</table>\n",
       "</div>"
      ],
      "text/plain": [
       "        date publication     words  \\\n",
       "0 2013-01-05    Le Monde   401mots   \n",
       "1 2013-01-11    Le Monde  1066mots   \n",
       "2 2013-01-16    Le Monde   324mots   \n",
       "\n",
       "                                              author  \\\n",
       "0                                      Pierre Le Hir   \n",
       "1  Propos recueillis par Marie-Béatrice Baudet, D...   \n",
       "2                                           P. L. H.   \n",
       "\n",
       "                                               title  \\\n",
       "0  Avec le réchauffement, les tourbières se trans...   \n",
       "1  Christophe de Margerie : « Le changement clima...   \n",
       "2  Transition énergétique : le clair-obscur de l'...   \n",
       "\n",
       "                                               intro  \n",
       "0    ...  pourraient se comporter non plus en pui...  \n",
       "1    ...  population mondiale, 2 % des énergies p...  \n",
       "2    ...  la transition énergétique n'a de vrai s...  "
      ]
     },
     "execution_count": 7,
     "metadata": {},
     "output_type": "execute_result"
    }
   ],
   "source": [
    "lemonde.head(3)"
   ]
  },
  {
   "cell_type": "code",
   "execution_count": 8,
   "metadata": {},
   "outputs": [],
   "source": [
    "lemonde.to_csv('lemonde.csv', index=False)"
   ]
  },
  {
   "cell_type": "markdown",
   "metadata": {},
   "source": [
    "### Total number of articles"
   ]
  },
  {
   "cell_type": "code",
   "execution_count": 10,
   "metadata": {},
   "outputs": [],
   "source": [
    "lemonde_all = pd.read_csv('Le Monde_All.csv', index_col=None)"
   ]
  },
  {
   "cell_type": "code",
   "execution_count": 11,
   "metadata": {},
   "outputs": [],
   "source": [
    "del lemonde_all['Unnamed: 0']"
   ]
  },
  {
   "cell_type": "code",
   "execution_count": 13,
   "metadata": {},
   "outputs": [],
   "source": [
    "lemonde_all['year'] = lemonde_all['year'].astype(str)\n",
    "lemonde_all['month'] = lemonde_all['month'].astype(str)"
   ]
  },
  {
   "cell_type": "code",
   "execution_count": 14,
   "metadata": {},
   "outputs": [],
   "source": [
    "lemonde_all['date'] = lemonde_all['year'].str.cat(lemonde_all['month'], sep='-')\n",
    "lemonde_all['date'] = pd.to_datetime(lemonde_all['date']).dt.strftime('%Y-%m')\n",
    "del lemonde_all['year']\n",
    "del lemonde_all['month']"
   ]
  },
  {
   "cell_type": "code",
   "execution_count": 15,
   "metadata": {},
   "outputs": [
    {
     "data": {
      "text/html": [
       "<div>\n",
       "<style scoped>\n",
       "    .dataframe tbody tr th:only-of-type {\n",
       "        vertical-align: middle;\n",
       "    }\n",
       "\n",
       "    .dataframe tbody tr th {\n",
       "        vertical-align: top;\n",
       "    }\n",
       "\n",
       "    .dataframe thead th {\n",
       "        text-align: right;\n",
       "    }\n",
       "</style>\n",
       "<table border=\"1\" class=\"dataframe\">\n",
       "  <thead>\n",
       "    <tr style=\"text-align: right;\">\n",
       "      <th></th>\n",
       "      <th>number</th>\n",
       "      <th>date</th>\n",
       "    </tr>\n",
       "  </thead>\n",
       "  <tbody>\n",
       "    <tr>\n",
       "      <th>0</th>\n",
       "      <td>3120</td>\n",
       "      <td>2013-01</td>\n",
       "    </tr>\n",
       "    <tr>\n",
       "      <th>1</th>\n",
       "      <td>3145</td>\n",
       "      <td>2013-02</td>\n",
       "    </tr>\n",
       "    <tr>\n",
       "      <th>2</th>\n",
       "      <td>3512</td>\n",
       "      <td>2013-03</td>\n",
       "    </tr>\n",
       "  </tbody>\n",
       "</table>\n",
       "</div>"
      ],
      "text/plain": [
       "   number     date\n",
       "0    3120  2013-01\n",
       "1    3145  2013-02\n",
       "2    3512  2013-03"
      ]
     },
     "execution_count": 15,
     "metadata": {},
     "output_type": "execute_result"
    }
   ],
   "source": [
    "lemonde_all.head(3)"
   ]
  },
  {
   "cell_type": "code",
   "execution_count": 16,
   "metadata": {},
   "outputs": [],
   "source": [
    "lemonde_all.to_csv('lemonde_all.csv', index=False)"
   ]
  },
  {
   "cell_type": "markdown",
   "metadata": {},
   "source": [
    "### Libération"
   ]
  },
  {
   "cell_type": "code",
   "execution_count": 18,
   "metadata": {},
   "outputs": [],
   "source": [
    "# import data\n",
    "\n",
    "libé = pd.read_csv('Libération.csv')\n",
    "\n",
    "# convert dates to datetime type\n",
    "libé['date'] = pd.to_datetime(libé['date'])\n",
    "\n",
    "# sort by date\n",
    "libé.sort_values(by='date', inplace = True) \n",
    "\n",
    "# drop unuseful columns\n",
    "del libé['Unnamed: 0']"
   ]
  },
  {
   "cell_type": "code",
   "execution_count": 19,
   "metadata": {
    "scrolled": true
   },
   "outputs": [
    {
     "data": {
      "text/html": [
       "<div>\n",
       "<style scoped>\n",
       "    .dataframe tbody tr th:only-of-type {\n",
       "        vertical-align: middle;\n",
       "    }\n",
       "\n",
       "    .dataframe tbody tr th {\n",
       "        vertical-align: top;\n",
       "    }\n",
       "\n",
       "    .dataframe thead th {\n",
       "        text-align: right;\n",
       "    }\n",
       "</style>\n",
       "<table border=\"1\" class=\"dataframe\">\n",
       "  <thead>\n",
       "    <tr style=\"text-align: right;\">\n",
       "      <th></th>\n",
       "      <th>date</th>\n",
       "      <th>publication</th>\n",
       "      <th>words</th>\n",
       "      <th>author</th>\n",
       "      <th>title</th>\n",
       "      <th>intro</th>\n",
       "    </tr>\n",
       "  </thead>\n",
       "  <tbody>\n",
       "    <tr>\n",
       "      <th>0</th>\n",
       "      <td>2013-01-04</td>\n",
       "      <td>Libération</td>\n",
       "      <td>444mots</td>\n",
       "      <td>Eliane Patriarca|Recueilli par Éliane Patriarca</td>\n",
       "      <td>«Le Rhône devrait perdre 30 % de son débit d'i...</td>\n",
       "      <td>...  cause : le quart sudest de la France es...</td>\n",
       "    </tr>\n",
       "    <tr>\n",
       "      <th>1</th>\n",
       "      <td>2013-01-19</td>\n",
       "      <td>Libération</td>\n",
       "      <td>705mots</td>\n",
       "      <td>Lilian Alemagna</td>\n",
       "      <td>«Je m'occupe de la lutte contre le changement ...</td>\n",
       "      <td>...  ministère du Développement, de continue...</td>\n",
       "    </tr>\n",
       "    <tr>\n",
       "      <th>2</th>\n",
       "      <td>2013-01-23</td>\n",
       "      <td>Libération</td>\n",
       "      <td>561mots</td>\n",
       "      <td>Sylvestre Huet</td>\n",
       "      <td>Consommation électrique, le jus 2012</td>\n",
       "      <td>...  des objectifs de la transition énergéti...</td>\n",
       "    </tr>\n",
       "  </tbody>\n",
       "</table>\n",
       "</div>"
      ],
      "text/plain": [
       "        date publication    words  \\\n",
       "0 2013-01-04  Libération  444mots   \n",
       "1 2013-01-19  Libération  705mots   \n",
       "2 2013-01-23  Libération  561mots   \n",
       "\n",
       "                                            author  \\\n",
       "0  Eliane Patriarca|Recueilli par Éliane Patriarca   \n",
       "1                                  Lilian Alemagna   \n",
       "2                                   Sylvestre Huet   \n",
       "\n",
       "                                               title  \\\n",
       "0  «Le Rhône devrait perdre 30 % de son débit d'i...   \n",
       "1  «Je m'occupe de la lutte contre le changement ...   \n",
       "2               Consommation électrique, le jus 2012   \n",
       "\n",
       "                                               intro  \n",
       "0    ...  cause : le quart sudest de la France es...  \n",
       "1    ...  ministère du Développement, de continue...  \n",
       "2    ...  des objectifs de la transition énergéti...  "
      ]
     },
     "execution_count": 19,
     "metadata": {},
     "output_type": "execute_result"
    }
   ],
   "source": [
    "libé.head(3)"
   ]
  },
  {
   "cell_type": "code",
   "execution_count": 41,
   "metadata": {},
   "outputs": [],
   "source": [
    "libé.to_csv('libé.csv', index=False)"
   ]
  },
  {
   "cell_type": "code",
   "execution_count": 21,
   "metadata": {},
   "outputs": [
    {
     "data": {
      "text/html": [
       "<div>\n",
       "<style scoped>\n",
       "    .dataframe tbody tr th:only-of-type {\n",
       "        vertical-align: middle;\n",
       "    }\n",
       "\n",
       "    .dataframe tbody tr th {\n",
       "        vertical-align: top;\n",
       "    }\n",
       "\n",
       "    .dataframe thead th {\n",
       "        text-align: right;\n",
       "    }\n",
       "</style>\n",
       "<table border=\"1\" class=\"dataframe\">\n",
       "  <thead>\n",
       "    <tr style=\"text-align: right;\">\n",
       "      <th></th>\n",
       "      <th>number</th>\n",
       "      <th>date</th>\n",
       "    </tr>\n",
       "  </thead>\n",
       "  <tbody>\n",
       "    <tr>\n",
       "      <th>0</th>\n",
       "      <td>2292</td>\n",
       "      <td>2013-01</td>\n",
       "    </tr>\n",
       "    <tr>\n",
       "      <th>1</th>\n",
       "      <td>2184</td>\n",
       "      <td>2013-02</td>\n",
       "    </tr>\n",
       "    <tr>\n",
       "      <th>2</th>\n",
       "      <td>2161</td>\n",
       "      <td>2013-03</td>\n",
       "    </tr>\n",
       "  </tbody>\n",
       "</table>\n",
       "</div>"
      ],
      "text/plain": [
       "   number     date\n",
       "0    2292  2013-01\n",
       "1    2184  2013-02\n",
       "2    2161  2013-03"
      ]
     },
     "execution_count": 21,
     "metadata": {},
     "output_type": "execute_result"
    }
   ],
   "source": [
    "libé_all = pd.read_csv('Libération_All.csv', index_col=None)\n",
    "\n",
    "del libé_all['Unnamed: 0']\n",
    "\n",
    "libé_all['year'] = libé_all['year'].astype(str)\n",
    "libé_all['month'] = libé_all['month'].astype(str)\n",
    "\n",
    "libé_all['date'] = libé_all['year'].str.cat(libé_all['month'], sep='-')\n",
    "libé_all['date'] = pd.to_datetime(libé_all['date']).dt.strftime('%Y-%m')\n",
    "del libé_all['year']\n",
    "del libé_all['month']\n",
    "\n",
    "libé_all.head(3)"
   ]
  },
  {
   "cell_type": "code",
   "execution_count": 22,
   "metadata": {},
   "outputs": [],
   "source": [
    "libé_all.to_csv('libé_all.csv', index=False)"
   ]
  },
  {
   "cell_type": "markdown",
   "metadata": {},
   "source": [
    "### Les Echos"
   ]
  },
  {
   "cell_type": "code",
   "execution_count": 23,
   "metadata": {},
   "outputs": [],
   "source": [
    "# import data\n",
    "\n",
    "lesechos = pd.read_csv('Les Echos.csv')\n",
    "\n",
    "# convert dates to datetime type\n",
    "lesechos['date'] = pd.to_datetime(lesechos['date'])\n",
    "\n",
    "# sort by date\n",
    "lesechos.sort_values(by='date', inplace = True) \n",
    "\n",
    "# drop unuseful columns\n",
    "del lesechos['Unnamed: 0']"
   ]
  },
  {
   "cell_type": "code",
   "execution_count": 24,
   "metadata": {
    "scrolled": false
   },
   "outputs": [
    {
     "data": {
      "text/html": [
       "<div>\n",
       "<style scoped>\n",
       "    .dataframe tbody tr th:only-of-type {\n",
       "        vertical-align: middle;\n",
       "    }\n",
       "\n",
       "    .dataframe tbody tr th {\n",
       "        vertical-align: top;\n",
       "    }\n",
       "\n",
       "    .dataframe thead th {\n",
       "        text-align: right;\n",
       "    }\n",
       "</style>\n",
       "<table border=\"1\" class=\"dataframe\">\n",
       "  <thead>\n",
       "    <tr style=\"text-align: right;\">\n",
       "      <th></th>\n",
       "      <th>date</th>\n",
       "      <th>publication</th>\n",
       "      <th>words</th>\n",
       "      <th>author</th>\n",
       "      <th>title</th>\n",
       "      <th>intro</th>\n",
       "    </tr>\n",
       "  </thead>\n",
       "  <tbody>\n",
       "    <tr>\n",
       "      <th>0</th>\n",
       "      <td>2013-01-04</td>\n",
       "      <td>Les Echos</td>\n",
       "      <td>478mots</td>\n",
       "      <td>NaN</td>\n",
       "      <td>Economie verte : méfions-nous des marchands de...</td>\n",
       "      <td>...  Leoni, que cite aussi M. Lecaussin, est u...</td>\n",
       "    </tr>\n",
       "    <tr>\n",
       "      <th>1</th>\n",
       "      <td>2013-01-10</td>\n",
       "      <td>Les Echos</td>\n",
       "      <td>619mots</td>\n",
       "      <td>NaN</td>\n",
       "      <td>Les crises de l'après-crise</td>\n",
       "      <td>...  l'euro et le « mur budgétaire américain »...</td>\n",
       "    </tr>\n",
       "    <tr>\n",
       "      <th>2</th>\n",
       "      <td>2013-01-15</td>\n",
       "      <td>Les Echos</td>\n",
       "      <td>730mots</td>\n",
       "      <td>NaN</td>\n",
       "      <td>Risques : les scénarios noirs de Davos</td>\n",
       "      <td>...  large a le mérite de mêler des sujets qui...</td>\n",
       "    </tr>\n",
       "  </tbody>\n",
       "</table>\n",
       "</div>"
      ],
      "text/plain": [
       "        date publication    words author  \\\n",
       "0 2013-01-04   Les Echos  478mots    NaN   \n",
       "1 2013-01-10   Les Echos  619mots    NaN   \n",
       "2 2013-01-15   Les Echos  730mots    NaN   \n",
       "\n",
       "                                               title  \\\n",
       "0  Economie verte : méfions-nous des marchands de...   \n",
       "1                        Les crises de l'après-crise   \n",
       "2             Risques : les scénarios noirs de Davos   \n",
       "\n",
       "                                               intro  \n",
       "0  ...  Leoni, que cite aussi M. Lecaussin, est u...  \n",
       "1  ...  l'euro et le « mur budgétaire américain »...  \n",
       "2  ...  large a le mérite de mêler des sujets qui...  "
      ]
     },
     "execution_count": 24,
     "metadata": {},
     "output_type": "execute_result"
    }
   ],
   "source": [
    "lesechos.head(3)"
   ]
  },
  {
   "cell_type": "code",
   "execution_count": 25,
   "metadata": {},
   "outputs": [],
   "source": [
    "lesechos.to_csv('lesechos.csv', index=False)"
   ]
  },
  {
   "cell_type": "code",
   "execution_count": 26,
   "metadata": {
    "scrolled": true
   },
   "outputs": [
    {
     "data": {
      "text/html": [
       "<div>\n",
       "<style scoped>\n",
       "    .dataframe tbody tr th:only-of-type {\n",
       "        vertical-align: middle;\n",
       "    }\n",
       "\n",
       "    .dataframe tbody tr th {\n",
       "        vertical-align: top;\n",
       "    }\n",
       "\n",
       "    .dataframe thead th {\n",
       "        text-align: right;\n",
       "    }\n",
       "</style>\n",
       "<table border=\"1\" class=\"dataframe\">\n",
       "  <thead>\n",
       "    <tr style=\"text-align: right;\">\n",
       "      <th></th>\n",
       "      <th>number</th>\n",
       "      <th>date</th>\n",
       "    </tr>\n",
       "  </thead>\n",
       "  <tbody>\n",
       "    <tr>\n",
       "      <th>0</th>\n",
       "      <td>3503</td>\n",
       "      <td>2013-01</td>\n",
       "    </tr>\n",
       "    <tr>\n",
       "      <th>1</th>\n",
       "      <td>3349</td>\n",
       "      <td>2013-02</td>\n",
       "    </tr>\n",
       "    <tr>\n",
       "      <th>2</th>\n",
       "      <td>3600</td>\n",
       "      <td>2013-03</td>\n",
       "    </tr>\n",
       "  </tbody>\n",
       "</table>\n",
       "</div>"
      ],
      "text/plain": [
       "   number     date\n",
       "0    3503  2013-01\n",
       "1    3349  2013-02\n",
       "2    3600  2013-03"
      ]
     },
     "execution_count": 26,
     "metadata": {},
     "output_type": "execute_result"
    }
   ],
   "source": [
    "lesechos_all = pd.read_csv('Les Echos_All.csv', index_col=None)\n",
    "\n",
    "del lesechos_all['Unnamed: 0']\n",
    "\n",
    "lesechos_all['year'] = lesechos_all['year'].astype(str)\n",
    "lesechos_all['month'] = lesechos_all['month'].astype(str)\n",
    "\n",
    "lesechos_all['date'] = lesechos_all['year'].str.cat(lesechos_all['month'], sep='-')\n",
    "lesechos_all['date'] = pd.to_datetime(lesechos_all['date']).dt.strftime('%Y-%m')\n",
    "del lesechos_all['year']\n",
    "del lesechos_all['month']\n",
    "\n",
    "lesechos_all.head(3)"
   ]
  },
  {
   "cell_type": "code",
   "execution_count": 31,
   "metadata": {},
   "outputs": [],
   "source": [
    "lesechos_all.to_csv('lesechos_all.csv', index=False)"
   ]
  },
  {
   "cell_type": "markdown",
   "metadata": {},
   "source": [
    "### La Croix"
   ]
  },
  {
   "cell_type": "code",
   "execution_count": 27,
   "metadata": {},
   "outputs": [],
   "source": [
    "# import data\n",
    "\n",
    "lacroix = pd.read_csv('La Croix.csv')\n",
    "\n",
    "# convert dates to datetime type\n",
    "lacroix['date'] = pd.to_datetime(lacroix['date'])\n",
    "\n",
    "# sort by date\n",
    "lacroix.sort_values(by='date', inplace = True) \n",
    "\n",
    "# drop unuseful columns\n",
    "del lacroix['Unnamed: 0']"
   ]
  },
  {
   "cell_type": "code",
   "execution_count": 28,
   "metadata": {},
   "outputs": [
    {
     "data": {
      "text/html": [
       "<div>\n",
       "<style scoped>\n",
       "    .dataframe tbody tr th:only-of-type {\n",
       "        vertical-align: middle;\n",
       "    }\n",
       "\n",
       "    .dataframe tbody tr th {\n",
       "        vertical-align: top;\n",
       "    }\n",
       "\n",
       "    .dataframe thead th {\n",
       "        text-align: right;\n",
       "    }\n",
       "</style>\n",
       "<table border=\"1\" class=\"dataframe\">\n",
       "  <thead>\n",
       "    <tr style=\"text-align: right;\">\n",
       "      <th></th>\n",
       "      <th>date</th>\n",
       "      <th>publication</th>\n",
       "      <th>words</th>\n",
       "      <th>author</th>\n",
       "      <th>title</th>\n",
       "      <th>intro</th>\n",
       "    </tr>\n",
       "  </thead>\n",
       "  <tbody>\n",
       "    <tr>\n",
       "      <th>0</th>\n",
       "      <td>2013-01-03</td>\n",
       "      <td>La Croix</td>\n",
       "      <td>552mots</td>\n",
       "      <td>PERRET Bernard</td>\n",
       "      <td>Forum. Une année perdue pour la planète. Berna...</td>\n",
       "      <td>Aborder la question du  changement  climatiq...</td>\n",
       "    </tr>\n",
       "    <tr>\n",
       "      <th>1</th>\n",
       "      <td>2013-01-09</td>\n",
       "      <td>La Croix</td>\n",
       "      <td>312mots</td>\n",
       "      <td>COMETTI Laure</td>\n",
       "      <td>Le sud-est de l'Australie en flammes</td>\n",
       "      <td>...  le climatologue Hervé Le Treut, il est ...</td>\n",
       "    </tr>\n",
       "    <tr>\n",
       "      <th>2</th>\n",
       "      <td>2013-01-29</td>\n",
       "      <td>La Croix</td>\n",
       "      <td>139mots</td>\n",
       "      <td>NaN</td>\n",
       "      <td>Les trois quarts des Français font confiance a...</td>\n",
       "      <td>...  en 2011 sur les Français et leur connaiss...</td>\n",
       "    </tr>\n",
       "  </tbody>\n",
       "</table>\n",
       "</div>"
      ],
      "text/plain": [
       "        date publication    words          author  \\\n",
       "0 2013-01-03    La Croix  552mots  PERRET Bernard   \n",
       "1 2013-01-09    La Croix  312mots   COMETTI Laure   \n",
       "2 2013-01-29    La Croix  139mots             NaN   \n",
       "\n",
       "                                               title  \\\n",
       "0  Forum. Une année perdue pour la planète. Berna...   \n",
       "1               Le sud-est de l'Australie en flammes   \n",
       "2  Les trois quarts des Français font confiance a...   \n",
       "\n",
       "                                               intro  \n",
       "0    Aborder la question du  changement  climatiq...  \n",
       "1    ...  le climatologue Hervé Le Treut, il est ...  \n",
       "2  ...  en 2011 sur les Français et leur connaiss...  "
      ]
     },
     "execution_count": 28,
     "metadata": {},
     "output_type": "execute_result"
    }
   ],
   "source": [
    "lacroix.head(3)"
   ]
  },
  {
   "cell_type": "code",
   "execution_count": 29,
   "metadata": {},
   "outputs": [],
   "source": [
    "lacroix.to_csv('lacroix.csv', index=False)"
   ]
  },
  {
   "cell_type": "code",
   "execution_count": 30,
   "metadata": {},
   "outputs": [
    {
     "data": {
      "text/html": [
       "<div>\n",
       "<style scoped>\n",
       "    .dataframe tbody tr th:only-of-type {\n",
       "        vertical-align: middle;\n",
       "    }\n",
       "\n",
       "    .dataframe tbody tr th {\n",
       "        vertical-align: top;\n",
       "    }\n",
       "\n",
       "    .dataframe thead th {\n",
       "        text-align: right;\n",
       "    }\n",
       "</style>\n",
       "<table border=\"1\" class=\"dataframe\">\n",
       "  <thead>\n",
       "    <tr style=\"text-align: right;\">\n",
       "      <th></th>\n",
       "      <th>number</th>\n",
       "      <th>date</th>\n",
       "    </tr>\n",
       "  </thead>\n",
       "  <tbody>\n",
       "    <tr>\n",
       "      <th>0</th>\n",
       "      <td>2266</td>\n",
       "      <td>2013-01</td>\n",
       "    </tr>\n",
       "    <tr>\n",
       "      <th>1</th>\n",
       "      <td>1821</td>\n",
       "      <td>2013-02</td>\n",
       "    </tr>\n",
       "    <tr>\n",
       "      <th>2</th>\n",
       "      <td>1838</td>\n",
       "      <td>2013-03</td>\n",
       "    </tr>\n",
       "  </tbody>\n",
       "</table>\n",
       "</div>"
      ],
      "text/plain": [
       "   number     date\n",
       "0    2266  2013-01\n",
       "1    1821  2013-02\n",
       "2    1838  2013-03"
      ]
     },
     "execution_count": 30,
     "metadata": {},
     "output_type": "execute_result"
    }
   ],
   "source": [
    "lacroix_all = pd.read_csv('La Croix_All.csv', index_col=None)\n",
    "\n",
    "del lacroix_all['Unnamed: 0']\n",
    "\n",
    "lacroix_all['year'] = lacroix_all['year'].astype(str)\n",
    "lacroix_all['month'] = lacroix_all['month'].astype(str)\n",
    "\n",
    "lacroix_all['date'] = lacroix_all['year'].str.cat(lacroix_all['month'], sep='-')\n",
    "lacroix_all['date'] = pd.to_datetime(lacroix_all['date']).dt.strftime('%Y-%m')\n",
    "del lacroix_all['year']\n",
    "del lacroix_all['month']\n",
    "\n",
    "lacroix_all.head(3)"
   ]
  },
  {
   "cell_type": "code",
   "execution_count": 32,
   "metadata": {},
   "outputs": [],
   "source": [
    "lacroix_all.to_csv('lacroix_all.csv', index=False)"
   ]
  },
  {
   "cell_type": "markdown",
   "metadata": {},
   "source": [
    "### Le Figaro"
   ]
  },
  {
   "cell_type": "code",
   "execution_count": 36,
   "metadata": {},
   "outputs": [],
   "source": [
    "# import data\n",
    "\n",
    "lefigaro = pd.read_csv('Le Figaro.csv')\n",
    "\n",
    "# convert dates to datetime type\n",
    "lefigaro['date'] = pd.to_datetime(lefigaro['date'])\n",
    "\n",
    "# sort by date\n",
    "lefigaro.sort_values(by='date', inplace = True) \n",
    "\n",
    "# drop unuseful columns\n",
    "del lefigaro['Unnamed: 0']"
   ]
  },
  {
   "cell_type": "code",
   "execution_count": 37,
   "metadata": {},
   "outputs": [
    {
     "data": {
      "text/html": [
       "<div>\n",
       "<style scoped>\n",
       "    .dataframe tbody tr th:only-of-type {\n",
       "        vertical-align: middle;\n",
       "    }\n",
       "\n",
       "    .dataframe tbody tr th {\n",
       "        vertical-align: top;\n",
       "    }\n",
       "\n",
       "    .dataframe thead th {\n",
       "        text-align: right;\n",
       "    }\n",
       "</style>\n",
       "<table border=\"1\" class=\"dataframe\">\n",
       "  <thead>\n",
       "    <tr style=\"text-align: right;\">\n",
       "      <th></th>\n",
       "      <th>date</th>\n",
       "      <th>publication</th>\n",
       "      <th>words</th>\n",
       "      <th>author</th>\n",
       "      <th>title</th>\n",
       "      <th>intro</th>\n",
       "    </tr>\n",
       "  </thead>\n",
       "  <tbody>\n",
       "    <tr>\n",
       "      <th>0</th>\n",
       "      <td>2013-01-12</td>\n",
       "      <td>Le Figaro</td>\n",
       "      <td>620mots</td>\n",
       "      <td>Joseph Nye</td>\n",
       "      <td>Ce que sera le monde en 2030</td>\n",
       "      <td>...  pour résoudre les problèmes dus à la cr...</td>\n",
       "    </tr>\n",
       "    <tr>\n",
       "      <th>1</th>\n",
       "      <td>2013-01-15</td>\n",
       "      <td>Le Figaro</td>\n",
       "      <td>362mots</td>\n",
       "      <td>Adèle SmithÀ New York À New York</td>\n",
       "      <td>Tollé aux États-Unis face à l'arrivée d'al-Jaz...</td>\n",
       "      <td>...  qualifiée de  « terroriste »  par certa...</td>\n",
       "    </tr>\n",
       "    <tr>\n",
       "      <th>2</th>\n",
       "      <td>2013-01-25</td>\n",
       "      <td>Le Figaro</td>\n",
       "      <td>110mots</td>\n",
       "      <td>NaN</td>\n",
       "      <td>[hervé guiriec...]</td>\n",
       "      <td>...  Bruno Julien, appelé à de nouvelles fonct...</td>\n",
       "    </tr>\n",
       "  </tbody>\n",
       "</table>\n",
       "</div>"
      ],
      "text/plain": [
       "        date publication    words                            author  \\\n",
       "0 2013-01-12   Le Figaro  620mots                        Joseph Nye   \n",
       "1 2013-01-15   Le Figaro  362mots  Adèle SmithÀ New York À New York   \n",
       "2 2013-01-25   Le Figaro  110mots                               NaN   \n",
       "\n",
       "                                               title  \\\n",
       "0                       Ce que sera le monde en 2030   \n",
       "1  Tollé aux États-Unis face à l'arrivée d'al-Jaz...   \n",
       "2                                 [hervé guiriec...]   \n",
       "\n",
       "                                               intro  \n",
       "0    ...  pour résoudre les problèmes dus à la cr...  \n",
       "1    ...  qualifiée de  « terroriste »  par certa...  \n",
       "2  ...  Bruno Julien, appelé à de nouvelles fonct...  "
      ]
     },
     "execution_count": 37,
     "metadata": {},
     "output_type": "execute_result"
    }
   ],
   "source": [
    "lefigaro.head(3)"
   ]
  },
  {
   "cell_type": "code",
   "execution_count": 38,
   "metadata": {},
   "outputs": [],
   "source": [
    "lefigaro.to_csv('lefigaro.csv', index=False)"
   ]
  },
  {
   "cell_type": "code",
   "execution_count": 39,
   "metadata": {},
   "outputs": [
    {
     "data": {
      "text/html": [
       "<div>\n",
       "<style scoped>\n",
       "    .dataframe tbody tr th:only-of-type {\n",
       "        vertical-align: middle;\n",
       "    }\n",
       "\n",
       "    .dataframe tbody tr th {\n",
       "        vertical-align: top;\n",
       "    }\n",
       "\n",
       "    .dataframe thead th {\n",
       "        text-align: right;\n",
       "    }\n",
       "</style>\n",
       "<table border=\"1\" class=\"dataframe\">\n",
       "  <thead>\n",
       "    <tr style=\"text-align: right;\">\n",
       "      <th></th>\n",
       "      <th>number</th>\n",
       "      <th>date</th>\n",
       "    </tr>\n",
       "  </thead>\n",
       "  <tbody>\n",
       "    <tr>\n",
       "      <th>0</th>\n",
       "      <td>5825</td>\n",
       "      <td>2013-01</td>\n",
       "    </tr>\n",
       "    <tr>\n",
       "      <th>1</th>\n",
       "      <td>5579</td>\n",
       "      <td>2013-02</td>\n",
       "    </tr>\n",
       "    <tr>\n",
       "      <th>2</th>\n",
       "      <td>5737</td>\n",
       "      <td>2013-03</td>\n",
       "    </tr>\n",
       "  </tbody>\n",
       "</table>\n",
       "</div>"
      ],
      "text/plain": [
       "   number     date\n",
       "0    5825  2013-01\n",
       "1    5579  2013-02\n",
       "2    5737  2013-03"
      ]
     },
     "execution_count": 39,
     "metadata": {},
     "output_type": "execute_result"
    }
   ],
   "source": [
    "lefigaro_all = pd.read_csv('Le Figaro_All.csv', index_col=None)\n",
    "\n",
    "del lefigaro_all['Unnamed: 0']\n",
    "\n",
    "lefigaro_all['year'] = lefigaro_all['year'].astype(str)\n",
    "lefigaro_all['month'] = lefigaro_all['month'].astype(str)\n",
    "\n",
    "lefigaro_all['date'] = lefigaro_all['year'].str.cat(lefigaro_all['month'], sep='-')\n",
    "lefigaro_all['date'] = pd.to_datetime(lefigaro_all['date']).dt.strftime('%Y-%m')\n",
    "del lefigaro_all['year']\n",
    "del lefigaro_all['month']\n",
    "\n",
    "lefigaro_all.head(3)"
   ]
  },
  {
   "cell_type": "code",
   "execution_count": 40,
   "metadata": {},
   "outputs": [],
   "source": [
    "lefigaro_all.to_csv('lefigaro_all.csv', index=False)"
   ]
  }
 ],
 "metadata": {
  "kernelspec": {
   "display_name": "Python 3",
   "language": "python",
   "name": "python3"
  },
  "language_info": {
   "codemirror_mode": {
    "name": "ipython",
    "version": 3
   },
   "file_extension": ".py",
   "mimetype": "text/x-python",
   "name": "python",
   "nbconvert_exporter": "python",
   "pygments_lexer": "ipython3",
   "version": "3.8.5"
  }
 },
 "nbformat": 4,
 "nbformat_minor": 4
}
