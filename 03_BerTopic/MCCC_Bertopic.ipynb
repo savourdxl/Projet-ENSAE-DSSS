{
  "cells": [
    {
      "cell_type": "markdown",
      "metadata": {
        "id": "cESVLYGM4R5a"
      },
      "source": [
        "# Media coverage of climate change : Bertopic"
      ]
    },
    {
      "cell_type": "markdown",
      "source": [
        "In this notebook, we apply Bertopic (https://maartengr.github.io/BERTopic/index.html) to the selected articles. Actually, we only dispose of titles and extracts of articles, so we concatenate these before topic modeling. \n",
        "\n",
        "**! Warning**\n",
        "As BERTopic has some random components, you will not get our results from this notebook. However, you can directly find our resulting dataframes on \n",
        "the github repository."
      ],
      "metadata": {
        "id": "-4xzQAjVy1RQ"
      }
    },
    {
      "cell_type": "code",
      "execution_count": null,
      "metadata": {
        "id": "aAxpU8_t4R5l"
      },
      "outputs": [],
      "source": [
        "import numpy as np\n",
        "import pandas as pd\n",
        "import matplotlib.pyplot as plt\n",
        "import plotly.express as px"
      ]
    },
    {
      "cell_type": "code",
      "execution_count": null,
      "metadata": {
        "id": "GbrJ04va4R5u"
      },
      "outputs": [],
      "source": [
        "from datetime import datetime"
      ]
    },
    {
      "cell_type": "code",
      "execution_count": null,
      "metadata": {
        "id": "A7hT381H4R53"
      },
      "outputs": [],
      "source": [
        "# set a color theme\n",
        "colors=px.colors.qualitative.Prism"
      ]
    },
    {
      "cell_type": "markdown",
      "metadata": {
        "id": "wJEv0Akc4R58"
      },
      "source": [
        "## Import data"
      ]
    },
    {
      "cell_type": "code",
      "source": [
        "# dataframes containing articles with climate change as their main topic\n",
        "\n",
        "lemonde = pd.read_csv('lemonde.csv')\n",
        "lesechos = pd.read_csv('lesechos.csv')\n",
        "libé = pd.read_csv('libé.csv')\n",
        "lacroix = pd.read_csv('lacroix.csv')\n",
        "lefigaro = pd.read_csv('lefigaro.csv')"
      ],
      "metadata": {
        "id": "ObJoOwtPsm3D",
        "colab": {
          "base_uri": "https://localhost:8080/",
          "height": 53
        },
        "outputId": "74bd7359-99db-4b14-ffbd-2750d1ab4eb6"
      },
      "execution_count": null,
      "outputs": [
        {
          "output_type": "execute_result",
          "data": {
            "text/plain": [
              "\"\\nlemonde = pd.read_csv('lemonde.csv')\\nlesechos = pd.read_csv('lesechos.csv')\\nlibé = pd.read_csv('libé.csv')\\nlacroix = pd.read_csv('lacroix.csv')\\nlefigaro = pd.read_csv('lefigaro.csv')\\n\""
            ],
            "application/vnd.google.colaboratory.intrinsic+json": {
              "type": "string"
            }
          },
          "metadata": {},
          "execution_count": 71
        }
      ]
    },
    {
      "cell_type": "code",
      "source": [
        "lemonde.head()"
      ],
      "metadata": {
        "colab": {
          "base_uri": "https://localhost:8080/",
          "height": 187
        },
        "id": "bOqaxbMVVzil",
        "outputId": "c8886456-075f-4071-8441-ebc5c50a473e"
      },
      "execution_count": null,
      "outputs": [
        {
          "output_type": "execute_result",
          "data": {
            "text/plain": [
              "         date publication     words  \\\n",
              "0  2013-01-05    Le Monde   401mots   \n",
              "1  2013-01-11    Le Monde  1066mots   \n",
              "2  2013-01-16    Le Monde   324mots   \n",
              "\n",
              "                                              author  \\\n",
              "0                                      Pierre Le Hir   \n",
              "1  Propos recueillis par Marie-Béatrice Baudet, D...   \n",
              "2                                           P. L. H.   \n",
              "\n",
              "                                               title  \\\n",
              "0  Avec le réchauffement, les tourbières se trans...   \n",
              "1  Christophe de Margerie : « Le changement clima...   \n",
              "2  Transition énergétique : le clair-obscur de l'...   \n",
              "\n",
              "                                               intro  \n",
              "0    ...  pourraient se comporter non plus en pui...  \n",
              "1    ...  population mondiale, 2 % des énergies p...  \n",
              "2    ...  la transition énergétique n'a de vrai s...  "
            ],
            "text/html": [
              "\n",
              "  <div id=\"df-ee386922-4ce5-4bec-8c4e-ac30ea9066a2\">\n",
              "    <div class=\"colab-df-container\">\n",
              "      <div>\n",
              "<style scoped>\n",
              "    .dataframe tbody tr th:only-of-type {\n",
              "        vertical-align: middle;\n",
              "    }\n",
              "\n",
              "    .dataframe tbody tr th {\n",
              "        vertical-align: top;\n",
              "    }\n",
              "\n",
              "    .dataframe thead th {\n",
              "        text-align: right;\n",
              "    }\n",
              "</style>\n",
              "<table border=\"1\" class=\"dataframe\">\n",
              "  <thead>\n",
              "    <tr style=\"text-align: right;\">\n",
              "      <th></th>\n",
              "      <th>date</th>\n",
              "      <th>publication</th>\n",
              "      <th>words</th>\n",
              "      <th>author</th>\n",
              "      <th>title</th>\n",
              "      <th>intro</th>\n",
              "    </tr>\n",
              "  </thead>\n",
              "  <tbody>\n",
              "    <tr>\n",
              "      <th>0</th>\n",
              "      <td>2013-01-05</td>\n",
              "      <td>Le Monde</td>\n",
              "      <td>401mots</td>\n",
              "      <td>Pierre Le Hir</td>\n",
              "      <td>Avec le réchauffement, les tourbières se trans...</td>\n",
              "      <td>...  pourraient se comporter non plus en pui...</td>\n",
              "    </tr>\n",
              "    <tr>\n",
              "      <th>1</th>\n",
              "      <td>2013-01-11</td>\n",
              "      <td>Le Monde</td>\n",
              "      <td>1066mots</td>\n",
              "      <td>Propos recueillis par Marie-Béatrice Baudet, D...</td>\n",
              "      <td>Christophe de Margerie : « Le changement clima...</td>\n",
              "      <td>...  population mondiale, 2 % des énergies p...</td>\n",
              "    </tr>\n",
              "    <tr>\n",
              "      <th>2</th>\n",
              "      <td>2013-01-16</td>\n",
              "      <td>Le Monde</td>\n",
              "      <td>324mots</td>\n",
              "      <td>P. L. H.</td>\n",
              "      <td>Transition énergétique : le clair-obscur de l'...</td>\n",
              "      <td>...  la transition énergétique n'a de vrai s...</td>\n",
              "    </tr>\n",
              "  </tbody>\n",
              "</table>\n",
              "</div>\n",
              "      <button class=\"colab-df-convert\" onclick=\"convertToInteractive('df-ee386922-4ce5-4bec-8c4e-ac30ea9066a2')\"\n",
              "              title=\"Convert this dataframe to an interactive table.\"\n",
              "              style=\"display:none;\">\n",
              "        \n",
              "  <svg xmlns=\"http://www.w3.org/2000/svg\" height=\"24px\"viewBox=\"0 0 24 24\"\n",
              "       width=\"24px\">\n",
              "    <path d=\"M0 0h24v24H0V0z\" fill=\"none\"/>\n",
              "    <path d=\"M18.56 5.44l.94 2.06.94-2.06 2.06-.94-2.06-.94-.94-2.06-.94 2.06-2.06.94zm-11 1L8.5 8.5l.94-2.06 2.06-.94-2.06-.94L8.5 2.5l-.94 2.06-2.06.94zm10 10l.94 2.06.94-2.06 2.06-.94-2.06-.94-.94-2.06-.94 2.06-2.06.94z\"/><path d=\"M17.41 7.96l-1.37-1.37c-.4-.4-.92-.59-1.43-.59-.52 0-1.04.2-1.43.59L10.3 9.45l-7.72 7.72c-.78.78-.78 2.05 0 2.83L4 21.41c.39.39.9.59 1.41.59.51 0 1.02-.2 1.41-.59l7.78-7.78 2.81-2.81c.8-.78.8-2.07 0-2.86zM5.41 20L4 18.59l7.72-7.72 1.47 1.35L5.41 20z\"/>\n",
              "  </svg>\n",
              "      </button>\n",
              "      \n",
              "  <style>\n",
              "    .colab-df-container {\n",
              "      display:flex;\n",
              "      flex-wrap:wrap;\n",
              "      gap: 12px;\n",
              "    }\n",
              "\n",
              "    .colab-df-convert {\n",
              "      background-color: #E8F0FE;\n",
              "      border: none;\n",
              "      border-radius: 50%;\n",
              "      cursor: pointer;\n",
              "      display: none;\n",
              "      fill: #1967D2;\n",
              "      height: 32px;\n",
              "      padding: 0 0 0 0;\n",
              "      width: 32px;\n",
              "    }\n",
              "\n",
              "    .colab-df-convert:hover {\n",
              "      background-color: #E2EBFA;\n",
              "      box-shadow: 0px 1px 2px rgba(60, 64, 67, 0.3), 0px 1px 3px 1px rgba(60, 64, 67, 0.15);\n",
              "      fill: #174EA6;\n",
              "    }\n",
              "\n",
              "    [theme=dark] .colab-df-convert {\n",
              "      background-color: #3B4455;\n",
              "      fill: #D2E3FC;\n",
              "    }\n",
              "\n",
              "    [theme=dark] .colab-df-convert:hover {\n",
              "      background-color: #434B5C;\n",
              "      box-shadow: 0px 1px 3px 1px rgba(0, 0, 0, 0.15);\n",
              "      filter: drop-shadow(0px 1px 2px rgba(0, 0, 0, 0.3));\n",
              "      fill: #FFFFFF;\n",
              "    }\n",
              "  </style>\n",
              "\n",
              "      <script>\n",
              "        const buttonEl =\n",
              "          document.querySelector('#df-ee386922-4ce5-4bec-8c4e-ac30ea9066a2 button.colab-df-convert');\n",
              "        buttonEl.style.display =\n",
              "          google.colab.kernel.accessAllowed ? 'block' : 'none';\n",
              "\n",
              "        async function convertToInteractive(key) {\n",
              "          const element = document.querySelector('#df-ee386922-4ce5-4bec-8c4e-ac30ea9066a2');\n",
              "          const dataTable =\n",
              "            await google.colab.kernel.invokeFunction('convertToInteractive',\n",
              "                                                     [key], {});\n",
              "          if (!dataTable) return;\n",
              "\n",
              "          const docLinkHtml = 'Like what you see? Visit the ' +\n",
              "            '<a target=\"_blank\" href=https://colab.research.google.com/notebooks/data_table.ipynb>data table notebook</a>'\n",
              "            + ' to learn more about interactive tables.';\n",
              "          element.innerHTML = '';\n",
              "          dataTable['output_type'] = 'display_data';\n",
              "          await google.colab.output.renderOutput(dataTable, element);\n",
              "          const docLink = document.createElement('div');\n",
              "          docLink.innerHTML = docLinkHtml;\n",
              "          element.appendChild(docLink);\n",
              "        }\n",
              "      </script>\n",
              "    </div>\n",
              "  </div>\n",
              "  "
            ]
          },
          "metadata": {},
          "execution_count": 67
        }
      ]
    },
    {
      "cell_type": "code",
      "source": [
        "# number of articles per journal\n",
        "len(lemonde), len(lesechos), len(libé), len(lacroix), len(lefigaro)"
      ],
      "metadata": {
        "colab": {
          "base_uri": "https://localhost:8080/"
        },
        "id": "1IICGe9pCasf",
        "outputId": "c17816e8-046d-4287-9a9c-1f3c61b744ca"
      },
      "execution_count": null,
      "outputs": [
        {
          "output_type": "execute_result",
          "data": {
            "text/plain": [
              "(2659, 1825, 1048, 983, 1242)"
            ]
          },
          "metadata": {},
          "execution_count": 68
        }
      ]
    },
    {
      "cell_type": "code",
      "execution_count": null,
      "metadata": {
        "id": "WhfxTOvQ4R6D"
      },
      "outputs": [],
      "source": [
        "# Convert dates to datetime format\n",
        "\n",
        "lemonde['date'] = pd.to_datetime(lemonde['date'])\n",
        "lesechos['date'] = pd.to_datetime(lesechos['date'])\n",
        "libé['date'] = pd.to_datetime(libé['date'])\n",
        "lacroix['date'] = pd.to_datetime(lacroix['date'])\n",
        "lefigaro['date'] = pd.to_datetime(lefigaro['date'])"
      ]
    },
    {
      "cell_type": "markdown",
      "source": [
        "### Build final dataframe"
      ],
      "metadata": {
        "id": "N4Zvo_thu9n3"
      }
    },
    {
      "cell_type": "code",
      "source": [
        "# concatenate title and intro into a 'text' column\n",
        "\n",
        "lemonde['text'] = lemonde[['title', 'intro']].agg('.'.join, axis=1)\n",
        "lesechos['text'] = lesechos[['title', 'intro']].agg('.'.join, axis=1)\n",
        "lefigaro['text'] = lefigaro[['title', 'intro']].agg('.'.join, axis=1)\n",
        "lacroix['text'] = lacroix[['title', 'intro']].agg('.'.join, axis=1)\n",
        "libé['text'] = libé[['title', 'intro']].agg('.'.join, axis=1)"
      ],
      "metadata": {
        "id": "lxUW_Bmru8j_"
      },
      "execution_count": null,
      "outputs": []
    },
    {
      "cell_type": "code",
      "source": [
        "# concatenate all journals in one dataframe (we perform bertopic on all articles)\n",
        "\n",
        "all_docs = pd.concat([lemonde, lesechos, lefigaro, lacroix, libé])\n",
        "all_docs.insert(loc=1, column= 'YearMonth', value= pd.to_datetime(all_docs['date']).apply(lambda x: x.strftime('%Y-%m')))"
      ],
      "metadata": {
        "id": "BLDRK6Rw14-W"
      },
      "execution_count": null,
      "outputs": []
    },
    {
      "cell_type": "code",
      "source": [
        "all_docs.head(3)"
      ],
      "metadata": {
        "colab": {
          "base_uri": "https://localhost:8080/",
          "height": 240
        },
        "id": "TeTgHvJK3KmF",
        "outputId": "25a23f7d-9ac9-4b86-de3e-9e4b5fb40047"
      },
      "execution_count": null,
      "outputs": [
        {
          "output_type": "execute_result",
          "data": {
            "text/plain": [
              "        date YearMonth publication     words  \\\n",
              "0 2013-01-05   2013-01    Le Monde   401mots   \n",
              "1 2013-01-11   2013-01    Le Monde  1066mots   \n",
              "2 2013-01-16   2013-01    Le Monde   324mots   \n",
              "\n",
              "                                              author  \\\n",
              "0                                      Pierre Le Hir   \n",
              "1  Propos recueillis par Marie-Béatrice Baudet, D...   \n",
              "2                                           P. L. H.   \n",
              "\n",
              "                                               title  \\\n",
              "0  Avec le réchauffement, les tourbières se trans...   \n",
              "1  Christophe de Margerie : « Le changement clima...   \n",
              "2  Transition énergétique : le clair-obscur de l'...   \n",
              "\n",
              "                                               intro  \\\n",
              "0    ...  pourraient se comporter non plus en pui...   \n",
              "1    ...  population mondiale, 2 % des énergies p...   \n",
              "2    ...  la transition énergétique n'a de vrai s...   \n",
              "\n",
              "                                                text  \n",
              "0  Avec le réchauffement, les tourbières se trans...  \n",
              "1  Christophe de Margerie : « Le changement clima...  \n",
              "2  Transition énergétique : le clair-obscur de l'...  "
            ],
            "text/html": [
              "\n",
              "  <div id=\"df-a4118d0b-9f2f-4f1d-940e-3ac643250adb\">\n",
              "    <div class=\"colab-df-container\">\n",
              "      <div>\n",
              "<style scoped>\n",
              "    .dataframe tbody tr th:only-of-type {\n",
              "        vertical-align: middle;\n",
              "    }\n",
              "\n",
              "    .dataframe tbody tr th {\n",
              "        vertical-align: top;\n",
              "    }\n",
              "\n",
              "    .dataframe thead th {\n",
              "        text-align: right;\n",
              "    }\n",
              "</style>\n",
              "<table border=\"1\" class=\"dataframe\">\n",
              "  <thead>\n",
              "    <tr style=\"text-align: right;\">\n",
              "      <th></th>\n",
              "      <th>date</th>\n",
              "      <th>YearMonth</th>\n",
              "      <th>publication</th>\n",
              "      <th>words</th>\n",
              "      <th>author</th>\n",
              "      <th>title</th>\n",
              "      <th>intro</th>\n",
              "      <th>text</th>\n",
              "    </tr>\n",
              "  </thead>\n",
              "  <tbody>\n",
              "    <tr>\n",
              "      <th>0</th>\n",
              "      <td>2013-01-05</td>\n",
              "      <td>2013-01</td>\n",
              "      <td>Le Monde</td>\n",
              "      <td>401mots</td>\n",
              "      <td>Pierre Le Hir</td>\n",
              "      <td>Avec le réchauffement, les tourbières se trans...</td>\n",
              "      <td>...  pourraient se comporter non plus en pui...</td>\n",
              "      <td>Avec le réchauffement, les tourbières se trans...</td>\n",
              "    </tr>\n",
              "    <tr>\n",
              "      <th>1</th>\n",
              "      <td>2013-01-11</td>\n",
              "      <td>2013-01</td>\n",
              "      <td>Le Monde</td>\n",
              "      <td>1066mots</td>\n",
              "      <td>Propos recueillis par Marie-Béatrice Baudet, D...</td>\n",
              "      <td>Christophe de Margerie : « Le changement clima...</td>\n",
              "      <td>...  population mondiale, 2 % des énergies p...</td>\n",
              "      <td>Christophe de Margerie : « Le changement clima...</td>\n",
              "    </tr>\n",
              "    <tr>\n",
              "      <th>2</th>\n",
              "      <td>2013-01-16</td>\n",
              "      <td>2013-01</td>\n",
              "      <td>Le Monde</td>\n",
              "      <td>324mots</td>\n",
              "      <td>P. L. H.</td>\n",
              "      <td>Transition énergétique : le clair-obscur de l'...</td>\n",
              "      <td>...  la transition énergétique n'a de vrai s...</td>\n",
              "      <td>Transition énergétique : le clair-obscur de l'...</td>\n",
              "    </tr>\n",
              "  </tbody>\n",
              "</table>\n",
              "</div>\n",
              "      <button class=\"colab-df-convert\" onclick=\"convertToInteractive('df-a4118d0b-9f2f-4f1d-940e-3ac643250adb')\"\n",
              "              title=\"Convert this dataframe to an interactive table.\"\n",
              "              style=\"display:none;\">\n",
              "        \n",
              "  <svg xmlns=\"http://www.w3.org/2000/svg\" height=\"24px\"viewBox=\"0 0 24 24\"\n",
              "       width=\"24px\">\n",
              "    <path d=\"M0 0h24v24H0V0z\" fill=\"none\"/>\n",
              "    <path d=\"M18.56 5.44l.94 2.06.94-2.06 2.06-.94-2.06-.94-.94-2.06-.94 2.06-2.06.94zm-11 1L8.5 8.5l.94-2.06 2.06-.94-2.06-.94L8.5 2.5l-.94 2.06-2.06.94zm10 10l.94 2.06.94-2.06 2.06-.94-2.06-.94-.94-2.06-.94 2.06-2.06.94z\"/><path d=\"M17.41 7.96l-1.37-1.37c-.4-.4-.92-.59-1.43-.59-.52 0-1.04.2-1.43.59L10.3 9.45l-7.72 7.72c-.78.78-.78 2.05 0 2.83L4 21.41c.39.39.9.59 1.41.59.51 0 1.02-.2 1.41-.59l7.78-7.78 2.81-2.81c.8-.78.8-2.07 0-2.86zM5.41 20L4 18.59l7.72-7.72 1.47 1.35L5.41 20z\"/>\n",
              "  </svg>\n",
              "      </button>\n",
              "      \n",
              "  <style>\n",
              "    .colab-df-container {\n",
              "      display:flex;\n",
              "      flex-wrap:wrap;\n",
              "      gap: 12px;\n",
              "    }\n",
              "\n",
              "    .colab-df-convert {\n",
              "      background-color: #E8F0FE;\n",
              "      border: none;\n",
              "      border-radius: 50%;\n",
              "      cursor: pointer;\n",
              "      display: none;\n",
              "      fill: #1967D2;\n",
              "      height: 32px;\n",
              "      padding: 0 0 0 0;\n",
              "      width: 32px;\n",
              "    }\n",
              "\n",
              "    .colab-df-convert:hover {\n",
              "      background-color: #E2EBFA;\n",
              "      box-shadow: 0px 1px 2px rgba(60, 64, 67, 0.3), 0px 1px 3px 1px rgba(60, 64, 67, 0.15);\n",
              "      fill: #174EA6;\n",
              "    }\n",
              "\n",
              "    [theme=dark] .colab-df-convert {\n",
              "      background-color: #3B4455;\n",
              "      fill: #D2E3FC;\n",
              "    }\n",
              "\n",
              "    [theme=dark] .colab-df-convert:hover {\n",
              "      background-color: #434B5C;\n",
              "      box-shadow: 0px 1px 3px 1px rgba(0, 0, 0, 0.15);\n",
              "      filter: drop-shadow(0px 1px 2px rgba(0, 0, 0, 0.3));\n",
              "      fill: #FFFFFF;\n",
              "    }\n",
              "  </style>\n",
              "\n",
              "      <script>\n",
              "        const buttonEl =\n",
              "          document.querySelector('#df-a4118d0b-9f2f-4f1d-940e-3ac643250adb button.colab-df-convert');\n",
              "        buttonEl.style.display =\n",
              "          google.colab.kernel.accessAllowed ? 'block' : 'none';\n",
              "\n",
              "        async function convertToInteractive(key) {\n",
              "          const element = document.querySelector('#df-a4118d0b-9f2f-4f1d-940e-3ac643250adb');\n",
              "          const dataTable =\n",
              "            await google.colab.kernel.invokeFunction('convertToInteractive',\n",
              "                                                     [key], {});\n",
              "          if (!dataTable) return;\n",
              "\n",
              "          const docLinkHtml = 'Like what you see? Visit the ' +\n",
              "            '<a target=\"_blank\" href=https://colab.research.google.com/notebooks/data_table.ipynb>data table notebook</a>'\n",
              "            + ' to learn more about interactive tables.';\n",
              "          element.innerHTML = '';\n",
              "          dataTable['output_type'] = 'display_data';\n",
              "          await google.colab.output.renderOutput(dataTable, element);\n",
              "          const docLink = document.createElement('div');\n",
              "          docLink.innerHTML = docLinkHtml;\n",
              "          element.appendChild(docLink);\n",
              "        }\n",
              "      </script>\n",
              "    </div>\n",
              "  </div>\n",
              "  "
            ]
          },
          "metadata": {},
          "execution_count": 75
        }
      ]
    },
    {
      "cell_type": "code",
      "source": [
        "len(all_docs)"
      ],
      "metadata": {
        "colab": {
          "base_uri": "https://localhost:8080/"
        },
        "id": "UN9RBzFg4h7a",
        "outputId": "d3731a19-0a8f-4dae-c705-7e125a0efc03"
      },
      "execution_count": null,
      "outputs": [
        {
          "output_type": "execute_result",
          "data": {
            "text/plain": [
              "7757"
            ]
          },
          "metadata": {},
          "execution_count": 76
        }
      ]
    },
    {
      "cell_type": "code",
      "source": [
        "# convert the text to be modelled into a list\n",
        "text_list = list(all_docs.text)"
      ],
      "metadata": {
        "id": "jjy4MNVe7ptw"
      },
      "execution_count": null,
      "outputs": []
    },
    {
      "cell_type": "markdown",
      "metadata": {
        "id": "uE5vvEFB4R6I"
      },
      "source": [
        "## Bertopic on concatenation of title and intro"
      ]
    },
    {
      "cell_type": "code",
      "execution_count": null,
      "metadata": {
        "id": "Y_F1FQ7z4R6U"
      },
      "outputs": [],
      "source": [
        "!pip install bertopic"
      ]
    },
    {
      "cell_type": "code",
      "execution_count": null,
      "metadata": {
        "id": "dDSRL0AR4R6j"
      },
      "outputs": [],
      "source": [
        "! pip install bertopic[visualization]"
      ]
    },
    {
      "cell_type": "code",
      "execution_count": null,
      "metadata": {
        "scrolled": true,
        "id": "6KMINaEZ4R6X"
      },
      "outputs": [],
      "source": [
        "from bertopic import BERTopic\n",
        "from bertopic.vectorizers import ClassTfidfTransformer\n",
        "from bertopic.representation import MaximalMarginalRelevance\n",
        "from umap import UMAP"
      ]
    },
    {
      "cell_type": "markdown",
      "source": [
        "# Model "
      ],
      "metadata": {
        "id": "t66kRlGePK9p"
      }
    },
    {
      "cell_type": "code",
      "execution_count": null,
      "metadata": {
        "collapsed": true,
        "id": "8MZQGi3g4R6Y"
      },
      "outputs": [],
      "source": [
        "# set model\n",
        "\n",
        "# number of topics\n",
        "nr_topics = 40 \n",
        "\n",
        "# to reduce the weight of frequent words (\"de\", \"la\", \"les\", etc)\n",
        "ctfidf_model = ClassTfidfTransformer(reduce_frequent_words=True)\n",
        "\n",
        "# to encourage word diversity among topics: 0 being not at all diverse and 1 being completely diverse\n",
        "representation_model = MaximalMarginalRelevance(diversity=0.8)\n",
        "\n",
        "# set model\n",
        "topic_model = BERTopic(nr_topics=nr_topics,\n",
        "                       ctfidf_model=ctfidf_model, \n",
        "                       representation_model=representation_model, \n",
        "                       language=\"multilingual\", # as we deal with French newspapers\n",
        "                       n_gram_range=(1, 3), # unigrams, bigrams, and trigrams are included in the model\n",
        "                       top_n_words=5, # only the top five most representative words are included\n",
        "                       calculate_probabilities=False, # to save time as we will not need probabilities\n",
        "                       verbose=True)"
      ]
    },
    {
      "cell_type": "code",
      "source": [
        "# apply model to all articles\n",
        "topics, probabilities = topic_model.fit_transform(text_list)"
      ],
      "metadata": {
        "id": "pT3yHoT805Pr"
      },
      "execution_count": null,
      "outputs": []
    },
    {
      "cell_type": "code",
      "source": [
        "# get topics info\n",
        "topic_model.get_topic_info()"
      ],
      "metadata": {
        "id": "FR4TXYZidsDW"
      },
      "execution_count": null,
      "outputs": []
    },
    {
      "cell_type": "code",
      "source": [
        "# assign a theme to outliers\n",
        "new_topics = topic_model.reduce_outliers(text_list, topics)\n",
        "#topic_model.update_topics(text_list, topics=topics_unsupervised)\n",
        "\n",
        "# update topics frequencies\n",
        "documents = pd.DataFrame({\"Document\": text_list, \"Topic\": new_topics})\n",
        "topic_model._update_topic_size(documents)"
      ],
      "metadata": {
        "id": "CXdd7WbZJH1o",
        "colab": {
          "base_uri": "https://localhost:8080/"
        },
        "outputId": "c0386eb2-7662-4d30-81ff-ee719c5d3963"
      },
      "execution_count": null,
      "outputs": [
        {
          "output_type": "stream",
          "name": "stderr",
          "text": [
            "100%|██████████| 4/4 [00:01<00:00,  2.27it/s]\n"
          ]
        }
      ]
    },
    {
      "cell_type": "code",
      "execution_count": null,
      "metadata": {
        "id": "Hv0dmVme4R6f"
      },
      "outputs": [],
      "source": [
        "# get updated topics info\n",
        "topic_model.get_topic_info()"
      ]
    },
    {
      "cell_type": "markdown",
      "source": [
        "## Add topics to initial dataframe"
      ],
      "metadata": {
        "id": "vxWxczgzk-SP"
      }
    },
    {
      "cell_type": "code",
      "execution_count": null,
      "metadata": {
        "id": "g8CEBlSl4R6g"
      },
      "outputs": [],
      "source": [
        "# get topic dataframe\n",
        "topic_df = topic_model.get_document_info(text_list)"
      ]
    },
    {
      "cell_type": "code",
      "source": [
        "# merge initial dataframe and topic dataframe\n",
        "all_docs_topics = all_docs.copy()"
      ],
      "metadata": {
        "id": "Rdy9cDGmQXFz"
      },
      "execution_count": null,
      "outputs": []
    },
    {
      "cell_type": "code",
      "source": [
        "all_docs_topics['topic_nr'] = topic_df['Topic']\n",
        "all_docs_topics['topic_name'] = topic_df['Name']\n",
        "all_docs_topics.drop(['date', 'words', 'author', 'title', 'intro'], axis=1, inplace=True)"
      ],
      "metadata": {
        "id": "wK15kCNG1VZQ"
      },
      "execution_count": null,
      "outputs": []
    },
    {
      "cell_type": "code",
      "source": [
        "all_docs_topics.head(2)"
      ],
      "metadata": {
        "colab": {
          "base_uri": "https://localhost:8080/",
          "height": 112
        },
        "id": "A9flbgTb2BO8",
        "outputId": "78561fc3-24b1-4b89-f3f0-a63d2b78c71f"
      },
      "execution_count": null,
      "outputs": [
        {
          "output_type": "execute_result",
          "data": {
            "text/plain": [
              "  YearMonth publication                                               text  \\\n",
              "0   2013-01    Le Monde  Avec le réchauffement, les tourbières se trans...   \n",
              "1   2013-01    Le Monde  Christophe de Margerie : « Le changement clima...   \n",
              "\n",
              "   topic_nr                                  topic_name  \n",
              "0         1  1_carbone_france_gaz effet de_émissions de  \n",
              "1         2       2_europe_union_bruxelles_émissions de  "
            ],
            "text/html": [
              "\n",
              "  <div id=\"df-ed4a7c0d-d404-44b0-be86-ef2785ed9a6d\">\n",
              "    <div class=\"colab-df-container\">\n",
              "      <div>\n",
              "<style scoped>\n",
              "    .dataframe tbody tr th:only-of-type {\n",
              "        vertical-align: middle;\n",
              "    }\n",
              "\n",
              "    .dataframe tbody tr th {\n",
              "        vertical-align: top;\n",
              "    }\n",
              "\n",
              "    .dataframe thead th {\n",
              "        text-align: right;\n",
              "    }\n",
              "</style>\n",
              "<table border=\"1\" class=\"dataframe\">\n",
              "  <thead>\n",
              "    <tr style=\"text-align: right;\">\n",
              "      <th></th>\n",
              "      <th>YearMonth</th>\n",
              "      <th>publication</th>\n",
              "      <th>text</th>\n",
              "      <th>topic_nr</th>\n",
              "      <th>topic_name</th>\n",
              "    </tr>\n",
              "  </thead>\n",
              "  <tbody>\n",
              "    <tr>\n",
              "      <th>0</th>\n",
              "      <td>2013-01</td>\n",
              "      <td>Le Monde</td>\n",
              "      <td>Avec le réchauffement, les tourbières se trans...</td>\n",
              "      <td>1</td>\n",
              "      <td>1_carbone_france_gaz effet de_émissions de</td>\n",
              "    </tr>\n",
              "    <tr>\n",
              "      <th>1</th>\n",
              "      <td>2013-01</td>\n",
              "      <td>Le Monde</td>\n",
              "      <td>Christophe de Margerie : « Le changement clima...</td>\n",
              "      <td>2</td>\n",
              "      <td>2_europe_union_bruxelles_émissions de</td>\n",
              "    </tr>\n",
              "  </tbody>\n",
              "</table>\n",
              "</div>\n",
              "      <button class=\"colab-df-convert\" onclick=\"convertToInteractive('df-ed4a7c0d-d404-44b0-be86-ef2785ed9a6d')\"\n",
              "              title=\"Convert this dataframe to an interactive table.\"\n",
              "              style=\"display:none;\">\n",
              "        \n",
              "  <svg xmlns=\"http://www.w3.org/2000/svg\" height=\"24px\"viewBox=\"0 0 24 24\"\n",
              "       width=\"24px\">\n",
              "    <path d=\"M0 0h24v24H0V0z\" fill=\"none\"/>\n",
              "    <path d=\"M18.56 5.44l.94 2.06.94-2.06 2.06-.94-2.06-.94-.94-2.06-.94 2.06-2.06.94zm-11 1L8.5 8.5l.94-2.06 2.06-.94-2.06-.94L8.5 2.5l-.94 2.06-2.06.94zm10 10l.94 2.06.94-2.06 2.06-.94-2.06-.94-.94-2.06-.94 2.06-2.06.94z\"/><path d=\"M17.41 7.96l-1.37-1.37c-.4-.4-.92-.59-1.43-.59-.52 0-1.04.2-1.43.59L10.3 9.45l-7.72 7.72c-.78.78-.78 2.05 0 2.83L4 21.41c.39.39.9.59 1.41.59.51 0 1.02-.2 1.41-.59l7.78-7.78 2.81-2.81c.8-.78.8-2.07 0-2.86zM5.41 20L4 18.59l7.72-7.72 1.47 1.35L5.41 20z\"/>\n",
              "  </svg>\n",
              "      </button>\n",
              "      \n",
              "  <style>\n",
              "    .colab-df-container {\n",
              "      display:flex;\n",
              "      flex-wrap:wrap;\n",
              "      gap: 12px;\n",
              "    }\n",
              "\n",
              "    .colab-df-convert {\n",
              "      background-color: #E8F0FE;\n",
              "      border: none;\n",
              "      border-radius: 50%;\n",
              "      cursor: pointer;\n",
              "      display: none;\n",
              "      fill: #1967D2;\n",
              "      height: 32px;\n",
              "      padding: 0 0 0 0;\n",
              "      width: 32px;\n",
              "    }\n",
              "\n",
              "    .colab-df-convert:hover {\n",
              "      background-color: #E2EBFA;\n",
              "      box-shadow: 0px 1px 2px rgba(60, 64, 67, 0.3), 0px 1px 3px 1px rgba(60, 64, 67, 0.15);\n",
              "      fill: #174EA6;\n",
              "    }\n",
              "\n",
              "    [theme=dark] .colab-df-convert {\n",
              "      background-color: #3B4455;\n",
              "      fill: #D2E3FC;\n",
              "    }\n",
              "\n",
              "    [theme=dark] .colab-df-convert:hover {\n",
              "      background-color: #434B5C;\n",
              "      box-shadow: 0px 1px 3px 1px rgba(0, 0, 0, 0.15);\n",
              "      filter: drop-shadow(0px 1px 2px rgba(0, 0, 0, 0.3));\n",
              "      fill: #FFFFFF;\n",
              "    }\n",
              "  </style>\n",
              "\n",
              "      <script>\n",
              "        const buttonEl =\n",
              "          document.querySelector('#df-ed4a7c0d-d404-44b0-be86-ef2785ed9a6d button.colab-df-convert');\n",
              "        buttonEl.style.display =\n",
              "          google.colab.kernel.accessAllowed ? 'block' : 'none';\n",
              "\n",
              "        async function convertToInteractive(key) {\n",
              "          const element = document.querySelector('#df-ed4a7c0d-d404-44b0-be86-ef2785ed9a6d');\n",
              "          const dataTable =\n",
              "            await google.colab.kernel.invokeFunction('convertToInteractive',\n",
              "                                                     [key], {});\n",
              "          if (!dataTable) return;\n",
              "\n",
              "          const docLinkHtml = 'Like what you see? Visit the ' +\n",
              "            '<a target=\"_blank\" href=https://colab.research.google.com/notebooks/data_table.ipynb>data table notebook</a>'\n",
              "            + ' to learn more about interactive tables.';\n",
              "          element.innerHTML = '';\n",
              "          dataTable['output_type'] = 'display_data';\n",
              "          await google.colab.output.renderOutput(dataTable, element);\n",
              "          const docLink = document.createElement('div');\n",
              "          docLink.innerHTML = docLinkHtml;\n",
              "          element.appendChild(docLink);\n",
              "        }\n",
              "      </script>\n",
              "    </div>\n",
              "  </div>\n",
              "  "
            ]
          },
          "metadata": {},
          "execution_count": 116
        }
      ]
    },
    {
      "cell_type": "markdown",
      "metadata": {
        "id": "LYpidmr54R6m"
      },
      "source": [
        "## Create time series"
      ]
    },
    {
      "cell_type": "code",
      "source": [
        "# get topic names\n",
        "topics_names = topic_model.get_topic_info().Name"
      ],
      "metadata": {
        "id": "6b66ohE5XC-L"
      },
      "execution_count": null,
      "outputs": []
    },
    {
      "cell_type": "code",
      "source": [
        "month_df = all_docs_topics.groupby(['topic_name','YearMonth'])['YearMonth'].count().reset_index(name=\"count\")"
      ],
      "metadata": {
        "id": "tEkk9L1qAOw-"
      },
      "execution_count": null,
      "outputs": []
    },
    {
      "cell_type": "code",
      "source": [
        "month_df.head(2)"
      ],
      "metadata": {
        "id": "WLuZgRpX2xt1"
      },
      "execution_count": null,
      "outputs": []
    },
    {
      "cell_type": "code",
      "source": [
        "# create dictionary of dataframes, one for each topic\n",
        "month_dict = {}\n",
        "for i in topics_names:\n",
        "  month_dict['month_df_{0}'.format(i)] = month_df[month_df['topic_name'] == i]"
      ],
      "metadata": {
        "id": "IVheAPcFGsmb"
      },
      "execution_count": null,
      "outputs": []
    },
    {
      "cell_type": "code",
      "source": [
        "# list of the dictionary keys\n",
        "key_list = list(month_dict.keys())"
      ],
      "metadata": {
        "id": "Mngrno1cHyIz"
      },
      "execution_count": null,
      "outputs": []
    },
    {
      "cell_type": "code",
      "source": [
        "# for each dataframe in the dictionary, sort the dataframe by date and change the name of the 'count' column\n",
        "\n",
        "for i in range(len(key_list)):\n",
        "  month_dict[key_list[i]]['YearMonth'] = pd.to_datetime(month_dict[key_list[i]]['YearMonth'])\n",
        "  month_dict[key_list[i]].sort_values(by='YearMonth', inplace = True) \n",
        "  month_dict[key_list[i]]['YearMonth'] = month_dict[key_list[i]]['YearMonth'].dt.date.apply(lambda x: x.strftime('%Y-%m'))\n",
        "  month_dict[key_list[i]].rename(columns = {'count': topics_names[i]}, inplace=True)"
      ],
      "metadata": {
        "id": "gNxKwNNmLG-N"
      },
      "execution_count": null,
      "outputs": []
    },
    {
      "cell_type": "code",
      "source": [
        "alldates = pd.date_range(start=\"2013-01\",end=\"2022-12\", freq='MS').strftime(\"%Y-%m\").tolist()"
      ],
      "metadata": {
        "id": "bU-IrR15OdLg"
      },
      "execution_count": null,
      "outputs": []
    },
    {
      "cell_type": "code",
      "source": [
        "# initialize a dataframe with all dates by month\n",
        "all_themes = pd.DataFrame({'YearMonth' : alldates})"
      ],
      "metadata": {
        "id": "CBl8PumxQsQ6"
      },
      "execution_count": null,
      "outputs": []
    },
    {
      "cell_type": "code",
      "source": [
        "# fill the dataframe with the number of articles for each month for each topic\n",
        "for i in range(len(key_list)):\n",
        "  all_themes = all_themes.merge(month_dict[key_list[i]][['YearMonth', topics_names[i]]], \n",
        "             how='left', on='YearMonth')\n",
        "\n",
        "all_themes = all_themes.fillna(0)"
      ],
      "metadata": {
        "id": "xMowHsl2Q5LH"
      },
      "execution_count": null,
      "outputs": []
    },
    {
      "cell_type": "markdown",
      "source": [
        "# Visualization"
      ],
      "metadata": {
        "id": "G0d-E39nask9"
      }
    },
    {
      "cell_type": "markdown",
      "source": [
        "From now on, we import our results (see folder 'data' on github) and work on them."
      ],
      "metadata": {
        "id": "PhTjlpufbaRx"
      }
    },
    {
      "cell_type": "code",
      "source": [
        "all_themes = pd.read_csv('all_themes.csv')"
      ],
      "metadata": {
        "id": "BCuaXzf_gUn6"
      },
      "execution_count": null,
      "outputs": []
    },
    {
      "cell_type": "code",
      "source": [
        "all_themes.head(2)"
      ],
      "metadata": {
        "colab": {
          "base_uri": "https://localhost:8080/",
          "height": 292
        },
        "id": "DtzmjlXGbfoT",
        "outputId": "1dc52264-b624-486c-9f6c-70080b28c406"
      },
      "execution_count": null,
      "outputs": [
        {
          "output_type": "execute_result",
          "data": {
            "text/plain": [
              "   Unnamed: 0 YearMonth  0_cop_paris_changement_accord  \\\n",
              "0           0   2013-01                            0.0   \n",
              "1           1   2013-02                            4.0   \n",
              "\n",
              "   1_carbone_france_gaz effet de_émissions de  \\\n",
              "0                                        13.0   \n",
              "1                                         3.0   \n",
              "\n",
              "   2_europe_union_bruxelles_émissions de  3_joe biden_américain_son_plan  \\\n",
              "0                                    5.0                             2.0   \n",
              "1                                    1.0                             5.0   \n",
              "\n",
              "   4_macron_les villes_entreprises_dollars  5_bolsonaro_changement_brésil_ne  \\\n",
              "0                                      1.0                               0.0   \n",
              "1                                      4.0                               1.0   \n",
              "\n",
              "   6_des glaciers_stations_les alpes_glaces  \\\n",
              "0                                       0.0   \n",
              "1                                       2.0   \n",
              "\n",
              "   7_inondations_phénomènes_eaux_par le  ...  \\\n",
              "0                                   0.0  ...   \n",
              "1                                   0.0  ...   \n",
              "\n",
              "   29_justin trudeau_justin_harper_oléoduc géant  \\\n",
              "0                                            0.0   \n",
              "1                                            0.0   \n",
              "\n",
              "   30_les vins_bordeaux_vigne et du_viticole française  \\\n",
              "0                                                0.0     \n",
              "1                                                0.0     \n",
              "\n",
              "   31_barrière_barrière de corail_récifs_récifs coralliens  \\\n",
              "0                                                0.0         \n",
              "1                                                0.0         \n",
              "\n",
              "   32_rénovation_rénovation énergétique_électricité_énergie en france  \\\n",
              "0                                                0.0                    \n",
              "1                                                0.0                    \n",
              "\n",
              "   33_bangladesh_les réfugiés climatiques_climatique crée plus_utilise étranger comme  \\\n",
              "0                                                0.0                                    \n",
              "1                                                2.0                                    \n",
              "\n",
              "   34_tourisme est responsable_crémation_hébergement_voyages  \\\n",
              "0                                                0.0           \n",
              "1                                                0.0           \n",
              "\n",
              "   35_concentrations de gaz_ppm_record_année les concentrations  \\\n",
              "0                                                0.0              \n",
              "1                                                0.0              \n",
              "\n",
              "   36_stables_les émissions mondiales_vont continuer grimper_37 ici  \\\n",
              "0                                                1.0                  \n",
              "1                                                2.0                  \n",
              "\n",
              "   37_climatique hydrogène vert_électrolyse_être produit_azotés  \\\n",
              "0                                                0.0              \n",
              "1                                                0.0              \n",
              "\n",
              "   38_climatique notre_droit reste identifié_mouvements migratoires dans_monde gouverné en  \n",
              "0                                                0.0                                        \n",
              "1                                                0.0                                        \n",
              "\n",
              "[2 rows x 41 columns]"
            ],
            "text/html": [
              "\n",
              "  <div id=\"df-102c9b00-86f4-4aba-9f36-02aa86326e4f\">\n",
              "    <div class=\"colab-df-container\">\n",
              "      <div>\n",
              "<style scoped>\n",
              "    .dataframe tbody tr th:only-of-type {\n",
              "        vertical-align: middle;\n",
              "    }\n",
              "\n",
              "    .dataframe tbody tr th {\n",
              "        vertical-align: top;\n",
              "    }\n",
              "\n",
              "    .dataframe thead th {\n",
              "        text-align: right;\n",
              "    }\n",
              "</style>\n",
              "<table border=\"1\" class=\"dataframe\">\n",
              "  <thead>\n",
              "    <tr style=\"text-align: right;\">\n",
              "      <th></th>\n",
              "      <th>Unnamed: 0</th>\n",
              "      <th>YearMonth</th>\n",
              "      <th>0_cop_paris_changement_accord</th>\n",
              "      <th>1_carbone_france_gaz effet de_émissions de</th>\n",
              "      <th>2_europe_union_bruxelles_émissions de</th>\n",
              "      <th>3_joe biden_américain_son_plan</th>\n",
              "      <th>4_macron_les villes_entreprises_dollars</th>\n",
              "      <th>5_bolsonaro_changement_brésil_ne</th>\n",
              "      <th>6_des glaciers_stations_les alpes_glaces</th>\n",
              "      <th>7_inondations_phénomènes_eaux_par le</th>\n",
              "      <th>...</th>\n",
              "      <th>29_justin trudeau_justin_harper_oléoduc géant</th>\n",
              "      <th>30_les vins_bordeaux_vigne et du_viticole française</th>\n",
              "      <th>31_barrière_barrière de corail_récifs_récifs coralliens</th>\n",
              "      <th>32_rénovation_rénovation énergétique_électricité_énergie en france</th>\n",
              "      <th>33_bangladesh_les réfugiés climatiques_climatique crée plus_utilise étranger comme</th>\n",
              "      <th>34_tourisme est responsable_crémation_hébergement_voyages</th>\n",
              "      <th>35_concentrations de gaz_ppm_record_année les concentrations</th>\n",
              "      <th>36_stables_les émissions mondiales_vont continuer grimper_37 ici</th>\n",
              "      <th>37_climatique hydrogène vert_électrolyse_être produit_azotés</th>\n",
              "      <th>38_climatique notre_droit reste identifié_mouvements migratoires dans_monde gouverné en</th>\n",
              "    </tr>\n",
              "  </thead>\n",
              "  <tbody>\n",
              "    <tr>\n",
              "      <th>0</th>\n",
              "      <td>0</td>\n",
              "      <td>2013-01</td>\n",
              "      <td>0.0</td>\n",
              "      <td>13.0</td>\n",
              "      <td>5.0</td>\n",
              "      <td>2.0</td>\n",
              "      <td>1.0</td>\n",
              "      <td>0.0</td>\n",
              "      <td>0.0</td>\n",
              "      <td>0.0</td>\n",
              "      <td>...</td>\n",
              "      <td>0.0</td>\n",
              "      <td>0.0</td>\n",
              "      <td>0.0</td>\n",
              "      <td>0.0</td>\n",
              "      <td>0.0</td>\n",
              "      <td>0.0</td>\n",
              "      <td>0.0</td>\n",
              "      <td>1.0</td>\n",
              "      <td>0.0</td>\n",
              "      <td>0.0</td>\n",
              "    </tr>\n",
              "    <tr>\n",
              "      <th>1</th>\n",
              "      <td>1</td>\n",
              "      <td>2013-02</td>\n",
              "      <td>4.0</td>\n",
              "      <td>3.0</td>\n",
              "      <td>1.0</td>\n",
              "      <td>5.0</td>\n",
              "      <td>4.0</td>\n",
              "      <td>1.0</td>\n",
              "      <td>2.0</td>\n",
              "      <td>0.0</td>\n",
              "      <td>...</td>\n",
              "      <td>0.0</td>\n",
              "      <td>0.0</td>\n",
              "      <td>0.0</td>\n",
              "      <td>0.0</td>\n",
              "      <td>2.0</td>\n",
              "      <td>0.0</td>\n",
              "      <td>0.0</td>\n",
              "      <td>2.0</td>\n",
              "      <td>0.0</td>\n",
              "      <td>0.0</td>\n",
              "    </tr>\n",
              "  </tbody>\n",
              "</table>\n",
              "<p>2 rows × 41 columns</p>\n",
              "</div>\n",
              "      <button class=\"colab-df-convert\" onclick=\"convertToInteractive('df-102c9b00-86f4-4aba-9f36-02aa86326e4f')\"\n",
              "              title=\"Convert this dataframe to an interactive table.\"\n",
              "              style=\"display:none;\">\n",
              "        \n",
              "  <svg xmlns=\"http://www.w3.org/2000/svg\" height=\"24px\"viewBox=\"0 0 24 24\"\n",
              "       width=\"24px\">\n",
              "    <path d=\"M0 0h24v24H0V0z\" fill=\"none\"/>\n",
              "    <path d=\"M18.56 5.44l.94 2.06.94-2.06 2.06-.94-2.06-.94-.94-2.06-.94 2.06-2.06.94zm-11 1L8.5 8.5l.94-2.06 2.06-.94-2.06-.94L8.5 2.5l-.94 2.06-2.06.94zm10 10l.94 2.06.94-2.06 2.06-.94-2.06-.94-.94-2.06-.94 2.06-2.06.94z\"/><path d=\"M17.41 7.96l-1.37-1.37c-.4-.4-.92-.59-1.43-.59-.52 0-1.04.2-1.43.59L10.3 9.45l-7.72 7.72c-.78.78-.78 2.05 0 2.83L4 21.41c.39.39.9.59 1.41.59.51 0 1.02-.2 1.41-.59l7.78-7.78 2.81-2.81c.8-.78.8-2.07 0-2.86zM5.41 20L4 18.59l7.72-7.72 1.47 1.35L5.41 20z\"/>\n",
              "  </svg>\n",
              "      </button>\n",
              "      \n",
              "  <style>\n",
              "    .colab-df-container {\n",
              "      display:flex;\n",
              "      flex-wrap:wrap;\n",
              "      gap: 12px;\n",
              "    }\n",
              "\n",
              "    .colab-df-convert {\n",
              "      background-color: #E8F0FE;\n",
              "      border: none;\n",
              "      border-radius: 50%;\n",
              "      cursor: pointer;\n",
              "      display: none;\n",
              "      fill: #1967D2;\n",
              "      height: 32px;\n",
              "      padding: 0 0 0 0;\n",
              "      width: 32px;\n",
              "    }\n",
              "\n",
              "    .colab-df-convert:hover {\n",
              "      background-color: #E2EBFA;\n",
              "      box-shadow: 0px 1px 2px rgba(60, 64, 67, 0.3), 0px 1px 3px 1px rgba(60, 64, 67, 0.15);\n",
              "      fill: #174EA6;\n",
              "    }\n",
              "\n",
              "    [theme=dark] .colab-df-convert {\n",
              "      background-color: #3B4455;\n",
              "      fill: #D2E3FC;\n",
              "    }\n",
              "\n",
              "    [theme=dark] .colab-df-convert:hover {\n",
              "      background-color: #434B5C;\n",
              "      box-shadow: 0px 1px 3px 1px rgba(0, 0, 0, 0.15);\n",
              "      filter: drop-shadow(0px 1px 2px rgba(0, 0, 0, 0.3));\n",
              "      fill: #FFFFFF;\n",
              "    }\n",
              "  </style>\n",
              "\n",
              "      <script>\n",
              "        const buttonEl =\n",
              "          document.querySelector('#df-102c9b00-86f4-4aba-9f36-02aa86326e4f button.colab-df-convert');\n",
              "        buttonEl.style.display =\n",
              "          google.colab.kernel.accessAllowed ? 'block' : 'none';\n",
              "\n",
              "        async function convertToInteractive(key) {\n",
              "          const element = document.querySelector('#df-102c9b00-86f4-4aba-9f36-02aa86326e4f');\n",
              "          const dataTable =\n",
              "            await google.colab.kernel.invokeFunction('convertToInteractive',\n",
              "                                                     [key], {});\n",
              "          if (!dataTable) return;\n",
              "\n",
              "          const docLinkHtml = 'Like what you see? Visit the ' +\n",
              "            '<a target=\"_blank\" href=https://colab.research.google.com/notebooks/data_table.ipynb>data table notebook</a>'\n",
              "            + ' to learn more about interactive tables.';\n",
              "          element.innerHTML = '';\n",
              "          dataTable['output_type'] = 'display_data';\n",
              "          await google.colab.output.renderOutput(dataTable, element);\n",
              "          const docLink = document.createElement('div');\n",
              "          docLink.innerHTML = docLinkHtml;\n",
              "          element.appendChild(docLink);\n",
              "        }\n",
              "      </script>\n",
              "    </div>\n",
              "  </div>\n",
              "  "
            ]
          },
          "metadata": {},
          "execution_count": 7
        }
      ]
    },
    {
      "cell_type": "code",
      "source": [
        "topics_names = list(all_themes.columns[2:])"
      ],
      "metadata": {
        "id": "MWSxCM-4bjX5"
      },
      "execution_count": null,
      "outputs": []
    },
    {
      "cell_type": "code",
      "source": [
        "!pip install -U kaleido"
      ],
      "metadata": {
        "id": "YyjGOJ7S86Cj"
      },
      "execution_count": null,
      "outputs": []
    },
    {
      "cell_type": "code",
      "source": [
        "import kaleido"
      ],
      "metadata": {
        "id": "YzecLhS5sXoK"
      },
      "execution_count": null,
      "outputs": []
    },
    {
      "cell_type": "markdown",
      "source": [
        "### Visualise topics of your choice"
      ],
      "metadata": {
        "id": "JGyIUyz8Q4Nj"
      }
    },
    {
      "cell_type": "code",
      "source": [
        "fig_themes = px.line(all_themes, x='YearMonth', y=topics_names[0],\n",
        "                    color_discrete_sequence=colors, markers=True)\n",
        "\n",
        "\n",
        "fig_themes.update_layout(\n",
        "    xaxis_title=\"Date\",\n",
        "    yaxis_title=\"Number of articles\",\n",
        "    legend_title=\"Theme\"\n",
        ")\n",
        "\n",
        "fig_themes.update_xaxes(ticklabelmode=\"period\")\n",
        "fig_themes.update_layout(xaxis_range=['2013-01','2022-12'])\n",
        "\n",
        "fig_themes.write_image(\"fig_themes_non_aggregated.png\") #static export\n",
        "#fig_themes.write_html(\"fig_themes_non_aggregated.html\") #dynamic view\n",
        "\n",
        "fig_themes"
      ],
      "metadata": {
        "id": "CpPy_2v3N_1n",
        "colab": {
          "base_uri": "https://localhost:8080/",
          "height": 542
        },
        "outputId": "3665da76-7316-4eb9-b8b1-cb38a91dd73d"
      },
      "execution_count": null,
      "outputs": [
        {
          "output_type": "display_data",
          "data": {
            "text/html": [
              "<html>\n",
              "<head><meta charset=\"utf-8\" /></head>\n",
              "<body>\n",
              "    <div>            <script src=\"https://cdnjs.cloudflare.com/ajax/libs/mathjax/2.7.5/MathJax.js?config=TeX-AMS-MML_SVG\"></script><script type=\"text/javascript\">if (window.MathJax && window.MathJax.Hub && window.MathJax.Hub.Config) {window.MathJax.Hub.Config({SVG: {font: \"STIX-Web\"}});}</script>                <script type=\"text/javascript\">window.PlotlyConfig = {MathJaxConfig: 'local'};</script>\n",
              "        <script src=\"https://cdn.plot.ly/plotly-2.18.2.min.js\"></script>                <div id=\"09ea812f-a249-4d9b-8994-01fccabf223b\" class=\"plotly-graph-div\" style=\"height:525px; width:100%;\"></div>            <script type=\"text/javascript\">                                    window.PLOTLYENV=window.PLOTLYENV || {};                                    if (document.getElementById(\"09ea812f-a249-4d9b-8994-01fccabf223b\")) {                    Plotly.newPlot(                        \"09ea812f-a249-4d9b-8994-01fccabf223b\",                        [{\"hovertemplate\":\"YearMonth=%{x}<br>0_cop_paris_changement_accord=%{y}<extra></extra>\",\"legendgroup\":\"\",\"line\":{\"color\":\"rgb(95, 70, 144)\",\"dash\":\"solid\"},\"marker\":{\"symbol\":\"circle\"},\"mode\":\"markers+lines\",\"name\":\"\",\"orientation\":\"v\",\"showlegend\":false,\"x\":[\"2013-01\",\"2013-02\",\"2013-03\",\"2013-04\",\"2013-05\",\"2013-06\",\"2013-07\",\"2013-08\",\"2013-09\",\"2013-10\",\"2013-11\",\"2013-12\",\"2014-01\",\"2014-02\",\"2014-03\",\"2014-04\",\"2014-05\",\"2014-06\",\"2014-07\",\"2014-08\",\"2014-09\",\"2014-10\",\"2014-11\",\"2014-12\",\"2015-01\",\"2015-02\",\"2015-03\",\"2015-04\",\"2015-05\",\"2015-06\",\"2015-07\",\"2015-08\",\"2015-09\",\"2015-10\",\"2015-11\",\"2015-12\",\"2016-01\",\"2016-02\",\"2016-03\",\"2016-04\",\"2016-05\",\"2016-06\",\"2016-07\",\"2016-08\",\"2016-09\",\"2016-10\",\"2016-11\",\"2016-12\",\"2017-01\",\"2017-02\",\"2017-03\",\"2017-04\",\"2017-05\",\"2017-06\",\"2017-07\",\"2017-08\",\"2017-09\",\"2017-10\",\"2017-11\",\"2017-12\",\"2018-01\",\"2018-02\",\"2018-03\",\"2018-04\",\"2018-05\",\"2018-06\",\"2018-07\",\"2018-08\",\"2018-09\",\"2018-10\",\"2018-11\",\"2018-12\",\"2019-01\",\"2019-02\",\"2019-03\",\"2019-04\",\"2019-05\",\"2019-06\",\"2019-07\",\"2019-08\",\"2019-09\",\"2019-10\",\"2019-11\",\"2019-12\",\"2020-01\",\"2020-02\",\"2020-03\",\"2020-04\",\"2020-05\",\"2020-06\",\"2020-07\",\"2020-08\",\"2020-09\",\"2020-10\",\"2020-11\",\"2020-12\",\"2021-01\",\"2021-02\",\"2021-03\",\"2021-04\",\"2021-05\",\"2021-06\",\"2021-07\",\"2021-08\",\"2021-09\",\"2021-10\",\"2021-11\",\"2021-12\",\"2022-01\",\"2022-02\",\"2022-03\",\"2022-04\",\"2022-05\",\"2022-06\",\"2022-07\",\"2022-08\",\"2022-09\",\"2022-10\",\"2022-11\",\"2022-12\"],\"xaxis\":\"x\",\"y\":[0.0,4.0,6.0,5.0,7.0,7.0,3.0,5.0,14.0,2.0,2.0,0.0,3.0,3.0,2.0,5.0,5.0,9.0,2.0,0.0,15.0,0.0,16.0,9.0,3.0,10.0,6.0,4.0,13.0,23.0,15.0,9.0,11.0,30.0,45.0,46.0,9.0,9.0,4.0,9.0,2.0,7.0,4.0,4.0,8.0,11.0,25.0,7.0,10.0,7.0,3.0,8.0,9.0,20.0,11.0,9.0,10.0,9.0,12.0,18.0,5.0,3.0,11.0,6.0,4.0,10.0,12.0,10.0,17.0,23.0,20.0,39.0,18.0,15.0,10.0,4.0,22.0,24.0,19.0,21.0,32.0,16.0,21.0,31.0,28.0,17.0,20.0,9.0,3.0,11.0,8.0,9.0,17.0,6.0,12.0,20.0,7.0,18.0,15.0,32.0,11.0,21.0,17.0,27.0,23.0,38.0,47.0,14.0,15.0,12.0,15.0,18.0,20.0,16.0,15.0,13.0,18.0,12.0,45.0,15.0],\"yaxis\":\"y\",\"type\":\"scatter\"}],                        {\"template\":{\"data\":{\"histogram2dcontour\":[{\"type\":\"histogram2dcontour\",\"colorbar\":{\"outlinewidth\":0,\"ticks\":\"\"},\"colorscale\":[[0.0,\"#0d0887\"],[0.1111111111111111,\"#46039f\"],[0.2222222222222222,\"#7201a8\"],[0.3333333333333333,\"#9c179e\"],[0.4444444444444444,\"#bd3786\"],[0.5555555555555556,\"#d8576b\"],[0.6666666666666666,\"#ed7953\"],[0.7777777777777778,\"#fb9f3a\"],[0.8888888888888888,\"#fdca26\"],[1.0,\"#f0f921\"]]}],\"choropleth\":[{\"type\":\"choropleth\",\"colorbar\":{\"outlinewidth\":0,\"ticks\":\"\"}}],\"histogram2d\":[{\"type\":\"histogram2d\",\"colorbar\":{\"outlinewidth\":0,\"ticks\":\"\"},\"colorscale\":[[0.0,\"#0d0887\"],[0.1111111111111111,\"#46039f\"],[0.2222222222222222,\"#7201a8\"],[0.3333333333333333,\"#9c179e\"],[0.4444444444444444,\"#bd3786\"],[0.5555555555555556,\"#d8576b\"],[0.6666666666666666,\"#ed7953\"],[0.7777777777777778,\"#fb9f3a\"],[0.8888888888888888,\"#fdca26\"],[1.0,\"#f0f921\"]]}],\"heatmap\":[{\"type\":\"heatmap\",\"colorbar\":{\"outlinewidth\":0,\"ticks\":\"\"},\"colorscale\":[[0.0,\"#0d0887\"],[0.1111111111111111,\"#46039f\"],[0.2222222222222222,\"#7201a8\"],[0.3333333333333333,\"#9c179e\"],[0.4444444444444444,\"#bd3786\"],[0.5555555555555556,\"#d8576b\"],[0.6666666666666666,\"#ed7953\"],[0.7777777777777778,\"#fb9f3a\"],[0.8888888888888888,\"#fdca26\"],[1.0,\"#f0f921\"]]}],\"heatmapgl\":[{\"type\":\"heatmapgl\",\"colorbar\":{\"outlinewidth\":0,\"ticks\":\"\"},\"colorscale\":[[0.0,\"#0d0887\"],[0.1111111111111111,\"#46039f\"],[0.2222222222222222,\"#7201a8\"],[0.3333333333333333,\"#9c179e\"],[0.4444444444444444,\"#bd3786\"],[0.5555555555555556,\"#d8576b\"],[0.6666666666666666,\"#ed7953\"],[0.7777777777777778,\"#fb9f3a\"],[0.8888888888888888,\"#fdca26\"],[1.0,\"#f0f921\"]]}],\"contourcarpet\":[{\"type\":\"contourcarpet\",\"colorbar\":{\"outlinewidth\":0,\"ticks\":\"\"}}],\"contour\":[{\"type\":\"contour\",\"colorbar\":{\"outlinewidth\":0,\"ticks\":\"\"},\"colorscale\":[[0.0,\"#0d0887\"],[0.1111111111111111,\"#46039f\"],[0.2222222222222222,\"#7201a8\"],[0.3333333333333333,\"#9c179e\"],[0.4444444444444444,\"#bd3786\"],[0.5555555555555556,\"#d8576b\"],[0.6666666666666666,\"#ed7953\"],[0.7777777777777778,\"#fb9f3a\"],[0.8888888888888888,\"#fdca26\"],[1.0,\"#f0f921\"]]}],\"surface\":[{\"type\":\"surface\",\"colorbar\":{\"outlinewidth\":0,\"ticks\":\"\"},\"colorscale\":[[0.0,\"#0d0887\"],[0.1111111111111111,\"#46039f\"],[0.2222222222222222,\"#7201a8\"],[0.3333333333333333,\"#9c179e\"],[0.4444444444444444,\"#bd3786\"],[0.5555555555555556,\"#d8576b\"],[0.6666666666666666,\"#ed7953\"],[0.7777777777777778,\"#fb9f3a\"],[0.8888888888888888,\"#fdca26\"],[1.0,\"#f0f921\"]]}],\"mesh3d\":[{\"type\":\"mesh3d\",\"colorbar\":{\"outlinewidth\":0,\"ticks\":\"\"}}],\"scatter\":[{\"fillpattern\":{\"fillmode\":\"overlay\",\"size\":10,\"solidity\":0.2},\"type\":\"scatter\"}],\"parcoords\":[{\"type\":\"parcoords\",\"line\":{\"colorbar\":{\"outlinewidth\":0,\"ticks\":\"\"}}}],\"scatterpolargl\":[{\"type\":\"scatterpolargl\",\"marker\":{\"colorbar\":{\"outlinewidth\":0,\"ticks\":\"\"}}}],\"bar\":[{\"error_x\":{\"color\":\"#2a3f5f\"},\"error_y\":{\"color\":\"#2a3f5f\"},\"marker\":{\"line\":{\"color\":\"#E5ECF6\",\"width\":0.5},\"pattern\":{\"fillmode\":\"overlay\",\"size\":10,\"solidity\":0.2}},\"type\":\"bar\"}],\"scattergeo\":[{\"type\":\"scattergeo\",\"marker\":{\"colorbar\":{\"outlinewidth\":0,\"ticks\":\"\"}}}],\"scatterpolar\":[{\"type\":\"scatterpolar\",\"marker\":{\"colorbar\":{\"outlinewidth\":0,\"ticks\":\"\"}}}],\"histogram\":[{\"marker\":{\"pattern\":{\"fillmode\":\"overlay\",\"size\":10,\"solidity\":0.2}},\"type\":\"histogram\"}],\"scattergl\":[{\"type\":\"scattergl\",\"marker\":{\"colorbar\":{\"outlinewidth\":0,\"ticks\":\"\"}}}],\"scatter3d\":[{\"type\":\"scatter3d\",\"line\":{\"colorbar\":{\"outlinewidth\":0,\"ticks\":\"\"}},\"marker\":{\"colorbar\":{\"outlinewidth\":0,\"ticks\":\"\"}}}],\"scattermapbox\":[{\"type\":\"scattermapbox\",\"marker\":{\"colorbar\":{\"outlinewidth\":0,\"ticks\":\"\"}}}],\"scatterternary\":[{\"type\":\"scatterternary\",\"marker\":{\"colorbar\":{\"outlinewidth\":0,\"ticks\":\"\"}}}],\"scattercarpet\":[{\"type\":\"scattercarpet\",\"marker\":{\"colorbar\":{\"outlinewidth\":0,\"ticks\":\"\"}}}],\"carpet\":[{\"aaxis\":{\"endlinecolor\":\"#2a3f5f\",\"gridcolor\":\"white\",\"linecolor\":\"white\",\"minorgridcolor\":\"white\",\"startlinecolor\":\"#2a3f5f\"},\"baxis\":{\"endlinecolor\":\"#2a3f5f\",\"gridcolor\":\"white\",\"linecolor\":\"white\",\"minorgridcolor\":\"white\",\"startlinecolor\":\"#2a3f5f\"},\"type\":\"carpet\"}],\"table\":[{\"cells\":{\"fill\":{\"color\":\"#EBF0F8\"},\"line\":{\"color\":\"white\"}},\"header\":{\"fill\":{\"color\":\"#C8D4E3\"},\"line\":{\"color\":\"white\"}},\"type\":\"table\"}],\"barpolar\":[{\"marker\":{\"line\":{\"color\":\"#E5ECF6\",\"width\":0.5},\"pattern\":{\"fillmode\":\"overlay\",\"size\":10,\"solidity\":0.2}},\"type\":\"barpolar\"}],\"pie\":[{\"automargin\":true,\"type\":\"pie\"}]},\"layout\":{\"autotypenumbers\":\"strict\",\"colorway\":[\"#636efa\",\"#EF553B\",\"#00cc96\",\"#ab63fa\",\"#FFA15A\",\"#19d3f3\",\"#FF6692\",\"#B6E880\",\"#FF97FF\",\"#FECB52\"],\"font\":{\"color\":\"#2a3f5f\"},\"hovermode\":\"closest\",\"hoverlabel\":{\"align\":\"left\"},\"paper_bgcolor\":\"white\",\"plot_bgcolor\":\"#E5ECF6\",\"polar\":{\"bgcolor\":\"#E5ECF6\",\"angularaxis\":{\"gridcolor\":\"white\",\"linecolor\":\"white\",\"ticks\":\"\"},\"radialaxis\":{\"gridcolor\":\"white\",\"linecolor\":\"white\",\"ticks\":\"\"}},\"ternary\":{\"bgcolor\":\"#E5ECF6\",\"aaxis\":{\"gridcolor\":\"white\",\"linecolor\":\"white\",\"ticks\":\"\"},\"baxis\":{\"gridcolor\":\"white\",\"linecolor\":\"white\",\"ticks\":\"\"},\"caxis\":{\"gridcolor\":\"white\",\"linecolor\":\"white\",\"ticks\":\"\"}},\"coloraxis\":{\"colorbar\":{\"outlinewidth\":0,\"ticks\":\"\"}},\"colorscale\":{\"sequential\":[[0.0,\"#0d0887\"],[0.1111111111111111,\"#46039f\"],[0.2222222222222222,\"#7201a8\"],[0.3333333333333333,\"#9c179e\"],[0.4444444444444444,\"#bd3786\"],[0.5555555555555556,\"#d8576b\"],[0.6666666666666666,\"#ed7953\"],[0.7777777777777778,\"#fb9f3a\"],[0.8888888888888888,\"#fdca26\"],[1.0,\"#f0f921\"]],\"sequentialminus\":[[0.0,\"#0d0887\"],[0.1111111111111111,\"#46039f\"],[0.2222222222222222,\"#7201a8\"],[0.3333333333333333,\"#9c179e\"],[0.4444444444444444,\"#bd3786\"],[0.5555555555555556,\"#d8576b\"],[0.6666666666666666,\"#ed7953\"],[0.7777777777777778,\"#fb9f3a\"],[0.8888888888888888,\"#fdca26\"],[1.0,\"#f0f921\"]],\"diverging\":[[0,\"#8e0152\"],[0.1,\"#c51b7d\"],[0.2,\"#de77ae\"],[0.3,\"#f1b6da\"],[0.4,\"#fde0ef\"],[0.5,\"#f7f7f7\"],[0.6,\"#e6f5d0\"],[0.7,\"#b8e186\"],[0.8,\"#7fbc41\"],[0.9,\"#4d9221\"],[1,\"#276419\"]]},\"xaxis\":{\"gridcolor\":\"white\",\"linecolor\":\"white\",\"ticks\":\"\",\"title\":{\"standoff\":15},\"zerolinecolor\":\"white\",\"automargin\":true,\"zerolinewidth\":2},\"yaxis\":{\"gridcolor\":\"white\",\"linecolor\":\"white\",\"ticks\":\"\",\"title\":{\"standoff\":15},\"zerolinecolor\":\"white\",\"automargin\":true,\"zerolinewidth\":2},\"scene\":{\"xaxis\":{\"backgroundcolor\":\"#E5ECF6\",\"gridcolor\":\"white\",\"linecolor\":\"white\",\"showbackground\":true,\"ticks\":\"\",\"zerolinecolor\":\"white\",\"gridwidth\":2},\"yaxis\":{\"backgroundcolor\":\"#E5ECF6\",\"gridcolor\":\"white\",\"linecolor\":\"white\",\"showbackground\":true,\"ticks\":\"\",\"zerolinecolor\":\"white\",\"gridwidth\":2},\"zaxis\":{\"backgroundcolor\":\"#E5ECF6\",\"gridcolor\":\"white\",\"linecolor\":\"white\",\"showbackground\":true,\"ticks\":\"\",\"zerolinecolor\":\"white\",\"gridwidth\":2}},\"shapedefaults\":{\"line\":{\"color\":\"#2a3f5f\"}},\"annotationdefaults\":{\"arrowcolor\":\"#2a3f5f\",\"arrowhead\":0,\"arrowwidth\":1},\"geo\":{\"bgcolor\":\"white\",\"landcolor\":\"#E5ECF6\",\"subunitcolor\":\"white\",\"showland\":true,\"showlakes\":true,\"lakecolor\":\"white\"},\"title\":{\"x\":0.05},\"mapbox\":{\"style\":\"light\"}}},\"xaxis\":{\"anchor\":\"y\",\"domain\":[0.0,1.0],\"title\":{\"text\":\"Date\"},\"ticklabelmode\":\"period\",\"range\":[\"2013-01\",\"2022-12\"]},\"yaxis\":{\"anchor\":\"x\",\"domain\":[0.0,1.0],\"title\":{\"text\":\"Number of articles\"}},\"legend\":{\"tracegroupgap\":0,\"title\":{\"text\":\"Theme\"}},\"margin\":{\"t\":60}},                        {\"responsive\": true}                    ).then(function(){\n",
              "                            \n",
              "var gd = document.getElementById('09ea812f-a249-4d9b-8994-01fccabf223b');\n",
              "var x = new MutationObserver(function (mutations, observer) {{\n",
              "        var display = window.getComputedStyle(gd).display;\n",
              "        if (!display || display === 'none') {{\n",
              "            console.log([gd, 'removed!']);\n",
              "            Plotly.purge(gd);\n",
              "            observer.disconnect();\n",
              "        }}\n",
              "}});\n",
              "\n",
              "// Listen for the removal of the full notebook cells\n",
              "var notebookContainer = gd.closest('#notebook-container');\n",
              "if (notebookContainer) {{\n",
              "    x.observe(notebookContainer, {childList: true});\n",
              "}}\n",
              "\n",
              "// Listen for the clearing of the current output cell\n",
              "var outputEl = gd.closest('.output');\n",
              "if (outputEl) {{\n",
              "    x.observe(outputEl, {childList: true});\n",
              "}}\n",
              "\n",
              "                        })                };                            </script>        </div>\n",
              "</body>\n",
              "</html>"
            ]
          },
          "metadata": {}
        }
      ]
    },
    {
      "cell_type": "markdown",
      "source": [
        "# Aggregate topics"
      ],
      "metadata": {
        "id": "dE1foGdz-pPu"
      }
    },
    {
      "cell_type": "code",
      "source": [
        "topics_names"
      ],
      "metadata": {
        "colab": {
          "base_uri": "https://localhost:8080/"
        },
        "id": "5Lv1N2KpbO4v",
        "outputId": "d358f3f5-5b40-4c28-f253-a43529169db3"
      },
      "execution_count": null,
      "outputs": [
        {
          "output_type": "execute_result",
          "data": {
            "text/plain": [
              "['0_cop_paris_changement_accord',\n",
              " '1_carbone_france_gaz effet de_émissions de',\n",
              " '2_europe_union_bruxelles_émissions de',\n",
              " '3_joe biden_américain_son_plan',\n",
              " '4_macron_les villes_entreprises_dollars',\n",
              " '5_bolsonaro_changement_brésil_ne',\n",
              " '6_des glaciers_stations_les alpes_glaces',\n",
              " '7_inondations_phénomènes_eaux_par le',\n",
              " '8_bce_banque centrale_christine lagarde_politique monétaire',\n",
              " '9_chinois_jinping_pic_la chine et',\n",
              " '10_émissions de_de gaz_effet de serre_gaz effet de',\n",
              " '11_déforestation_les forêts_pompiers_tropicales',\n",
              " '12_angela merkel_ses_chancelière_respecter ses engagements',\n",
              " '13_oiseaux_invasives_exotiques_pollution',\n",
              " '14_climat australie_incendies_abbott_par habitant',\n",
              " '15_énergie nucléaire_atome_nucléaire qui_japon',\n",
              " '16_premières victimes_enfants_santé mentale_pandémie',\n",
              " '17_vaches_de élevage_14 des_production de viande',\n",
              " '18_navires_le diesel_volkswagen_constructeurs',\n",
              " '19_au moins 40_un esprit_40 les émissions_de justice sociale',\n",
              " '20_la plus chaude_copernicus_record_européen copernicus',\n",
              " '21_glaciologie_température_surface_années 1990 aux',\n",
              " '22_vanuatu_qui subit_petites îles_continent africain',\n",
              " '23_transport aérien_les avions_le kérosène_aéroport de',\n",
              " '24_banques_les banques centrales_centrales_risques financiers',\n",
              " '25_famine_madagascar_kenya_milliards habitants',\n",
              " '26_actionnaires_exxonmobil_pétrolier_majors',\n",
              " '27_communautés locales agissent_climatique vid_en croissance_économie circulaire est',\n",
              " '28_océans en_île_courants_du niveau des',\n",
              " '29_justin trudeau_justin_harper_oléoduc géant',\n",
              " '30_les vins_bordeaux_vigne et du_viticole française',\n",
              " '31_barrière_barrière de corail_récifs_récifs coralliens',\n",
              " '32_rénovation_rénovation énergétique_électricité_énergie en france',\n",
              " '33_bangladesh_les réfugiés climatiques_climatique crée plus_utilise étranger comme',\n",
              " '34_tourisme est responsable_crémation_hébergement_voyages',\n",
              " '35_concentrations de gaz_ppm_record_année les concentrations',\n",
              " '36_stables_les émissions mondiales_vont continuer grimper_37 ici',\n",
              " '37_climatique hydrogène vert_électrolyse_être produit_azotés',\n",
              " '38_climatique notre_droit reste identifié_mouvements migratoires dans_monde gouverné en']"
            ]
          },
          "metadata": {},
          "execution_count": 30
        }
      ]
    },
    {
      "cell_type": "code",
      "source": [
        "# Aggregate topics into themes\n",
        "\n",
        "Causes_of_Solutions_to_Climate_Change = ['17_vaches_de élevage_14 des_production de viande',\n",
        "                                         '18_navires_le diesel_volkswagen_constructeurs',\n",
        "                                         '36_stables_les émissions mondiales_vont continuer grimper_37 ici',\n",
        "                                         '37_climatique hydrogène vert_électrolyse_être produit_azotés',\n",
        "                                         '10_émissions de_de gaz_effet de serre_gaz effet de',\n",
        "                                         '15_énergie nucléaire_atome_nucléaire qui_japon',\n",
        "                                         '32_rénovation_rénovation énergétique_électricité_énergie en france'\n",
        "                                         ]\n",
        "COPs = ['0_cop_paris_changement_accord']\n",
        "Climate_Politics = ['1_carbone_france_gaz effet de_émissions de',\n",
        "                    '2_europe_union_bruxelles_émissions de',\n",
        "                    '3_joe biden_américain_son_plan',\n",
        "                    '5_bolsonaro_changement_brésil_ne',\n",
        "                    '8_bce_banque centrale_christine lagarde_politique monétaire',\n",
        "                    '9_chinois_jinping_pic_la chine et',\n",
        "                    '12_angela merkel_ses_chancelière_respecter ses engagements',\n",
        "                    '29_justin trudeau_justin_harper_oléoduc géant',\n",
        "                    '33_bangladesh_les réfugiés climatiques_climatique crée plus_utilise étranger comme',\n",
        "                    '19_au moins 40_un esprit_40 les émissions_de justice sociale'\n",
        "                    ]\n",
        "Awareness  = ['27_communautés locales agissent_climatique vid_en croissance_économie circulaire est']\n",
        "Impacts_on_humans = ['7_inondations_phénomènes_eaux_par le',\n",
        "                     '14_climat australie_incendies_abbott_par habitant',\n",
        "                     '16_premières victimes_enfants_santé mentale_pandémie',\n",
        "                     '22_vanuatu_qui subit_petites îles_continent africain',\n",
        "                     '25_famine_madagascar_kenya_milliards habitants',\n",
        "                     '28_océans en_île_courants_du niveau des',\n",
        "                     '30_les vins_bordeaux_vigne et du_viticole française',\n",
        "                     '38_climatique notre_droit reste identifié_mouvements migratoires dans_monde gouverné en'\n",
        "                     ]\n",
        "Economic_Impacts = ['4_macron_les villes_entreprises_dollars',\n",
        "                    '6_des glaciers_stations_les alpes_glaces',\n",
        "                    '23_transport aérien_les avions_le kérosène_aéroport de',\n",
        "                    '24_banques_les banques centrales_centrales_risques financiers',\n",
        "                    '26_actionnaires_exxonmobil_pétrolier_majors',\n",
        "                    '34_tourisme est responsable_crémation_hébergement_voyages'\n",
        "                    ]\n",
        "Climate_Science_Impacts_on_the_Ecosystem = ['11_déforestation_les forêts_pompiers_tropicales',\n",
        "                                           '13_oiseaux_invasives_exotiques_pollution',\n",
        "                                           '20_la plus chaude_copernicus_record_européen copernicus',\n",
        "                                           '21_glaciologie_température_surface_années 1990 aux',\n",
        "                                           '31_barrière_barrière de corail_récifs_récifs coralliens',\n",
        "                                           '35_concentrations de gaz_ppm_record_année les concentrations'\n",
        "                                           ]"
      ],
      "metadata": {
        "id": "ulMDTPHe_Whg"
      },
      "execution_count": null,
      "outputs": []
    },
    {
      "cell_type": "code",
      "source": [
        "aggregated_themes = all_themes.copy()"
      ],
      "metadata": {
        "id": "WgvEuPZaIsZw"
      },
      "execution_count": null,
      "outputs": []
    },
    {
      "cell_type": "code",
      "source": [
        "# Create dataframe with time series for each theme\n",
        "\n",
        "aggregated_themes['Causes of & Solutions to Climate Change'] = aggregated_themes[Causes_of_Solutions_to_Climate_Change].sum(axis=1)\n",
        "aggregated_themes['COPs'] = aggregated_themes[COPs].sum(axis=1)\n",
        "aggregated_themes['Climate Politics'] = aggregated_themes[Climate_Politics].sum(axis=1)\n",
        "aggregated_themes['Awareness'] = aggregated_themes[Awareness].sum(axis=1)\n",
        "aggregated_themes['Impacts on humans'] = aggregated_themes[Impacts_on_humans].sum(axis=1)\n",
        "aggregated_themes['Economic Impacts'] = aggregated_themes[Economic_Impacts].sum(axis=1)\n",
        "aggregated_themes['Climate Science & Impacts on the Ecosystem'] = aggregated_themes[Climate_Science_Impacts_on_the_Ecosystem].sum(axis=1)"
      ],
      "metadata": {
        "id": "scFOuU4lM3q8"
      },
      "execution_count": null,
      "outputs": []
    },
    {
      "cell_type": "code",
      "source": [
        "# Keep only interesting columns for readability\n",
        "aggregated_themes = aggregated_themes[['YearMonth', \n",
        "                                       'Causes of & Solutions to Climate Change',\n",
        "                                       'COPs', 'Climate Politics', 'Awareness',\n",
        "                                       'Impacts on humans', 'Economic Impacts',\n",
        "                                       'Climate Science & Impacts on the Ecosystem']]"
      ],
      "metadata": {
        "id": "iMnR7NBpNVN_"
      },
      "execution_count": null,
      "outputs": []
    },
    {
      "cell_type": "code",
      "source": [
        "aggregated_themes.to_csv('aggregated_themes.csv')"
      ],
      "metadata": {
        "id": "8tJ5SbuSSa0-"
      },
      "execution_count": null,
      "outputs": []
    },
    {
      "cell_type": "code",
      "source": [
        "agg_topics = pd.Series(['Causes of & Solutions to Climate Change',\n",
        "                                       'COPs', 'Climate Politics', 'Awareness',\n",
        "                                       'Impacts on humans', 'Economic Impacts',\n",
        "                                       'Climate Science & Impacts on the Ecosystem'])"
      ],
      "metadata": {
        "id": "SlC-xeDeVh17"
      },
      "execution_count": null,
      "outputs": []
    },
    {
      "cell_type": "markdown",
      "source": [
        "### Visualization"
      ],
      "metadata": {
        "id": "XkUHiOVmSoKi"
      }
    },
    {
      "cell_type": "code",
      "source": [
        "# Evolution of themes\n",
        "\n",
        "fig_agg_themes = px.line(aggregated_themes, x='YearMonth', y=agg_topics,\n",
        "                title=\"Number of articles per theme, all journals\", \n",
        "                    color_discrete_sequence=colors, markers=True)\n",
        "\n",
        "\n",
        "\n",
        "fig_agg_themes.update_layout(\n",
        "    xaxis_title=\"Date\",\n",
        "    yaxis_title=\"Number of articles\",\n",
        "    legend_title=None\n",
        ")\n",
        "\n",
        "fig_agg_themes.update_xaxes(ticklabelmode=\"period\")\n",
        "fig_agg_themes.update_layout(xaxis_range=['2013-01','2022-12'])\n",
        "\n",
        "fig_agg_themes.update_layout(legend=dict(\n",
        "    yanchor=\"top\",\n",
        "    y=0.99,\n",
        "    xanchor=\"left\",\n",
        "    x=0.01,\n",
        "    font = dict(size = 16)\n",
        "    ))\n",
        "\n",
        "fig_agg_themes.write_image(\"fig_themes_aggregated.png\") #static export\n",
        "#fig_agg_themes.write_html(\"fig_themes_aggregated.html\") #dynamic view\n",
        "\n",
        "fig_agg_themes"
      ],
      "metadata": {
        "colab": {
          "base_uri": "https://localhost:8080/",
          "height": 542
        },
        "id": "PM6Qnz0WQouG",
        "outputId": "dc618c0e-4db4-484a-a358-f7cadb8144fa"
      },
      "execution_count": null,
      "outputs": [
        {
          "output_type": "display_data",
          "data": {
            "text/html": [
              "<html>\n",
              "<head><meta charset=\"utf-8\" /></head>\n",
              "<body>\n",
              "    <div>            <script src=\"https://cdnjs.cloudflare.com/ajax/libs/mathjax/2.7.5/MathJax.js?config=TeX-AMS-MML_SVG\"></script><script type=\"text/javascript\">if (window.MathJax && window.MathJax.Hub && window.MathJax.Hub.Config) {window.MathJax.Hub.Config({SVG: {font: \"STIX-Web\"}});}</script>                <script type=\"text/javascript\">window.PlotlyConfig = {MathJaxConfig: 'local'};</script>\n",
              "        <script src=\"https://cdn.plot.ly/plotly-2.18.2.min.js\"></script>                <div id=\"f8cf33fd-5417-4172-8aff-1a69b6607157\" class=\"plotly-graph-div\" style=\"height:525px; width:100%;\"></div>            <script type=\"text/javascript\">                                    window.PLOTLYENV=window.PLOTLYENV || {};                                    if (document.getElementById(\"f8cf33fd-5417-4172-8aff-1a69b6607157\")) {                    Plotly.newPlot(                        \"f8cf33fd-5417-4172-8aff-1a69b6607157\",                        [{\"hovertemplate\":\"variable=Causes of & Solutions to Climate Change<br>YearMonth=%{x}<br>value=%{y}<extra></extra>\",\"legendgroup\":\"Causes of & Solutions to Climate Change\",\"line\":{\"color\":\"rgb(95, 70, 144)\",\"dash\":\"solid\"},\"marker\":{\"symbol\":\"circle\"},\"mode\":\"markers+lines\",\"name\":\"Causes of & Solutions to Climate Change\",\"orientation\":\"v\",\"showlegend\":true,\"x\":[\"2013-01\",\"2013-02\",\"2013-03\",\"2013-04\",\"2013-05\",\"2013-06\",\"2013-07\",\"2013-08\",\"2013-09\",\"2013-10\",\"2013-11\",\"2013-12\",\"2014-01\",\"2014-02\",\"2014-03\",\"2014-04\",\"2014-05\",\"2014-06\",\"2014-07\",\"2014-08\",\"2014-09\",\"2014-10\",\"2014-11\",\"2014-12\",\"2015-01\",\"2015-02\",\"2015-03\",\"2015-04\",\"2015-05\",\"2015-06\",\"2015-07\",\"2015-08\",\"2015-09\",\"2015-10\",\"2015-11\",\"2015-12\",\"2016-01\",\"2016-02\",\"2016-03\",\"2016-04\",\"2016-05\",\"2016-06\",\"2016-07\",\"2016-08\",\"2016-09\",\"2016-10\",\"2016-11\",\"2016-12\",\"2017-01\",\"2017-02\",\"2017-03\",\"2017-04\",\"2017-05\",\"2017-06\",\"2017-07\",\"2017-08\",\"2017-09\",\"2017-10\",\"2017-11\",\"2017-12\",\"2018-01\",\"2018-02\",\"2018-03\",\"2018-04\",\"2018-05\",\"2018-06\",\"2018-07\",\"2018-08\",\"2018-09\",\"2018-10\",\"2018-11\",\"2018-12\",\"2019-01\",\"2019-02\",\"2019-03\",\"2019-04\",\"2019-05\",\"2019-06\",\"2019-07\",\"2019-08\",\"2019-09\",\"2019-10\",\"2019-11\",\"2019-12\",\"2020-01\",\"2020-02\",\"2020-03\",\"2020-04\",\"2020-05\",\"2020-06\",\"2020-07\",\"2020-08\",\"2020-09\",\"2020-10\",\"2020-11\",\"2020-12\",\"2021-01\",\"2021-02\",\"2021-03\",\"2021-04\",\"2021-05\",\"2021-06\",\"2021-07\",\"2021-08\",\"2021-09\",\"2021-10\",\"2021-11\",\"2021-12\",\"2022-01\",\"2022-02\",\"2022-03\",\"2022-04\",\"2022-05\",\"2022-06\",\"2022-07\",\"2022-08\",\"2022-09\",\"2022-10\",\"2022-11\",\"2022-12\"],\"xaxis\":\"x\",\"y\":[1.0,2.0,3.0,1.0,3.0,2.0,2.0,1.0,4.0,2.0,5.0,2.0,1.0,1.0,4.0,2.0,2.0,2.0,2.0,1.0,10.0,9.0,13.0,9.0,3.0,6.0,3.0,2.0,4.0,9.0,1.0,0.0,7.0,17.0,27.0,27.0,5.0,2.0,4.0,5.0,4.0,5.0,1.0,0.0,2.0,10.0,10.0,5.0,5.0,2.0,5.0,0.0,4.0,7.0,3.0,6.0,7.0,6.0,10.0,10.0,2.0,2.0,2.0,3.0,8.0,3.0,6.0,7.0,8.0,7.0,7.0,9.0,16.0,11.0,11.0,4.0,8.0,1.0,8.0,3.0,22.0,4.0,7.0,18.0,9.0,7.0,3.0,2.0,1.0,4.0,9.0,8.0,6.0,6.0,3.0,14.0,7.0,7.0,7.0,15.0,6.0,8.0,21.0,8.0,13.0,17.0,12.0,10.0,12.0,7.0,9.0,19.0,4.0,11.0,6.0,12.0,14.0,7.0,25.0,7.0],\"yaxis\":\"y\",\"type\":\"scatter\"},{\"hovertemplate\":\"variable=COPs<br>YearMonth=%{x}<br>value=%{y}<extra></extra>\",\"legendgroup\":\"COPs\",\"line\":{\"color\":\"rgb(29, 105, 150)\",\"dash\":\"solid\"},\"marker\":{\"symbol\":\"circle\"},\"mode\":\"markers+lines\",\"name\":\"COPs\",\"orientation\":\"v\",\"showlegend\":true,\"x\":[\"2013-01\",\"2013-02\",\"2013-03\",\"2013-04\",\"2013-05\",\"2013-06\",\"2013-07\",\"2013-08\",\"2013-09\",\"2013-10\",\"2013-11\",\"2013-12\",\"2014-01\",\"2014-02\",\"2014-03\",\"2014-04\",\"2014-05\",\"2014-06\",\"2014-07\",\"2014-08\",\"2014-09\",\"2014-10\",\"2014-11\",\"2014-12\",\"2015-01\",\"2015-02\",\"2015-03\",\"2015-04\",\"2015-05\",\"2015-06\",\"2015-07\",\"2015-08\",\"2015-09\",\"2015-10\",\"2015-11\",\"2015-12\",\"2016-01\",\"2016-02\",\"2016-03\",\"2016-04\",\"2016-05\",\"2016-06\",\"2016-07\",\"2016-08\",\"2016-09\",\"2016-10\",\"2016-11\",\"2016-12\",\"2017-01\",\"2017-02\",\"2017-03\",\"2017-04\",\"2017-05\",\"2017-06\",\"2017-07\",\"2017-08\",\"2017-09\",\"2017-10\",\"2017-11\",\"2017-12\",\"2018-01\",\"2018-02\",\"2018-03\",\"2018-04\",\"2018-05\",\"2018-06\",\"2018-07\",\"2018-08\",\"2018-09\",\"2018-10\",\"2018-11\",\"2018-12\",\"2019-01\",\"2019-02\",\"2019-03\",\"2019-04\",\"2019-05\",\"2019-06\",\"2019-07\",\"2019-08\",\"2019-09\",\"2019-10\",\"2019-11\",\"2019-12\",\"2020-01\",\"2020-02\",\"2020-03\",\"2020-04\",\"2020-05\",\"2020-06\",\"2020-07\",\"2020-08\",\"2020-09\",\"2020-10\",\"2020-11\",\"2020-12\",\"2021-01\",\"2021-02\",\"2021-03\",\"2021-04\",\"2021-05\",\"2021-06\",\"2021-07\",\"2021-08\",\"2021-09\",\"2021-10\",\"2021-11\",\"2021-12\",\"2022-01\",\"2022-02\",\"2022-03\",\"2022-04\",\"2022-05\",\"2022-06\",\"2022-07\",\"2022-08\",\"2022-09\",\"2022-10\",\"2022-11\",\"2022-12\"],\"xaxis\":\"x\",\"y\":[0.0,4.0,6.0,5.0,7.0,7.0,3.0,5.0,14.0,2.0,2.0,0.0,3.0,3.0,2.0,5.0,5.0,9.0,2.0,0.0,15.0,0.0,16.0,9.0,3.0,10.0,6.0,4.0,13.0,23.0,15.0,9.0,11.0,30.0,45.0,46.0,9.0,9.0,4.0,9.0,2.0,7.0,4.0,4.0,8.0,11.0,25.0,7.0,10.0,7.0,3.0,8.0,9.0,20.0,11.0,9.0,10.0,9.0,12.0,18.0,5.0,3.0,11.0,6.0,4.0,10.0,12.0,10.0,17.0,23.0,20.0,39.0,18.0,15.0,10.0,4.0,22.0,24.0,19.0,21.0,32.0,16.0,21.0,31.0,28.0,17.0,20.0,9.0,3.0,11.0,8.0,9.0,17.0,6.0,12.0,20.0,7.0,18.0,15.0,32.0,11.0,21.0,17.0,27.0,23.0,38.0,47.0,14.0,15.0,12.0,15.0,18.0,20.0,16.0,15.0,13.0,18.0,12.0,45.0,15.0],\"yaxis\":\"y\",\"type\":\"scatter\"},{\"hovertemplate\":\"variable=Climate Politics<br>YearMonth=%{x}<br>value=%{y}<extra></extra>\",\"legendgroup\":\"Climate Politics\",\"line\":{\"color\":\"rgb(56, 166, 165)\",\"dash\":\"solid\"},\"marker\":{\"symbol\":\"circle\"},\"mode\":\"markers+lines\",\"name\":\"Climate Politics\",\"orientation\":\"v\",\"showlegend\":true,\"x\":[\"2013-01\",\"2013-02\",\"2013-03\",\"2013-04\",\"2013-05\",\"2013-06\",\"2013-07\",\"2013-08\",\"2013-09\",\"2013-10\",\"2013-11\",\"2013-12\",\"2014-01\",\"2014-02\",\"2014-03\",\"2014-04\",\"2014-05\",\"2014-06\",\"2014-07\",\"2014-08\",\"2014-09\",\"2014-10\",\"2014-11\",\"2014-12\",\"2015-01\",\"2015-02\",\"2015-03\",\"2015-04\",\"2015-05\",\"2015-06\",\"2015-07\",\"2015-08\",\"2015-09\",\"2015-10\",\"2015-11\",\"2015-12\",\"2016-01\",\"2016-02\",\"2016-03\",\"2016-04\",\"2016-05\",\"2016-06\",\"2016-07\",\"2016-08\",\"2016-09\",\"2016-10\",\"2016-11\",\"2016-12\",\"2017-01\",\"2017-02\",\"2017-03\",\"2017-04\",\"2017-05\",\"2017-06\",\"2017-07\",\"2017-08\",\"2017-09\",\"2017-10\",\"2017-11\",\"2017-12\",\"2018-01\",\"2018-02\",\"2018-03\",\"2018-04\",\"2018-05\",\"2018-06\",\"2018-07\",\"2018-08\",\"2018-09\",\"2018-10\",\"2018-11\",\"2018-12\",\"2019-01\",\"2019-02\",\"2019-03\",\"2019-04\",\"2019-05\",\"2019-06\",\"2019-07\",\"2019-08\",\"2019-09\",\"2019-10\",\"2019-11\",\"2019-12\",\"2020-01\",\"2020-02\",\"2020-03\",\"2020-04\",\"2020-05\",\"2020-06\",\"2020-07\",\"2020-08\",\"2020-09\",\"2020-10\",\"2020-11\",\"2020-12\",\"2021-01\",\"2021-02\",\"2021-03\",\"2021-04\",\"2021-05\",\"2021-06\",\"2021-07\",\"2021-08\",\"2021-09\",\"2021-10\",\"2021-11\",\"2021-12\",\"2022-01\",\"2022-02\",\"2022-03\",\"2022-04\",\"2022-05\",\"2022-06\",\"2022-07\",\"2022-08\",\"2022-09\",\"2022-10\",\"2022-11\",\"2022-12\"],\"xaxis\":\"x\",\"y\":[20.0,12.0,6.0,16.0,15.0,18.0,7.0,9.0,16.0,9.0,14.0,8.0,22.0,11.0,10.0,14.0,9.0,19.0,14.0,3.0,19.0,15.0,27.0,16.0,8.0,17.0,19.0,20.0,34.0,43.0,25.0,22.0,33.0,47.0,104.0,60.0,10.0,9.0,7.0,11.0,8.0,7.0,9.0,8.0,22.0,14.0,31.0,17.0,15.0,11.0,17.0,11.0,19.0,26.0,11.0,18.0,17.0,16.0,27.0,27.0,17.0,7.0,11.0,9.0,10.0,9.0,14.0,18.0,21.0,23.0,36.0,36.0,22.0,20.0,18.0,18.0,27.0,31.0,28.0,21.0,39.0,29.0,33.0,51.0,36.0,28.0,13.0,9.0,14.0,29.0,27.0,11.0,31.0,26.0,17.0,32.0,19.0,23.0,29.0,35.0,28.0,22.0,36.0,34.0,38.0,59.0,55.0,22.0,26.0,22.0,30.0,34.0,31.0,42.0,37.0,38.0,45.0,39.0,62.0,35.0],\"yaxis\":\"y\",\"type\":\"scatter\"},{\"hovertemplate\":\"variable=Awareness<br>YearMonth=%{x}<br>value=%{y}<extra></extra>\",\"legendgroup\":\"Awareness\",\"line\":{\"color\":\"rgb(15, 133, 84)\",\"dash\":\"solid\"},\"marker\":{\"symbol\":\"circle\"},\"mode\":\"markers+lines\",\"name\":\"Awareness\",\"orientation\":\"v\",\"showlegend\":true,\"x\":[\"2013-01\",\"2013-02\",\"2013-03\",\"2013-04\",\"2013-05\",\"2013-06\",\"2013-07\",\"2013-08\",\"2013-09\",\"2013-10\",\"2013-11\",\"2013-12\",\"2014-01\",\"2014-02\",\"2014-03\",\"2014-04\",\"2014-05\",\"2014-06\",\"2014-07\",\"2014-08\",\"2014-09\",\"2014-10\",\"2014-11\",\"2014-12\",\"2015-01\",\"2015-02\",\"2015-03\",\"2015-04\",\"2015-05\",\"2015-06\",\"2015-07\",\"2015-08\",\"2015-09\",\"2015-10\",\"2015-11\",\"2015-12\",\"2016-01\",\"2016-02\",\"2016-03\",\"2016-04\",\"2016-05\",\"2016-06\",\"2016-07\",\"2016-08\",\"2016-09\",\"2016-10\",\"2016-11\",\"2016-12\",\"2017-01\",\"2017-02\",\"2017-03\",\"2017-04\",\"2017-05\",\"2017-06\",\"2017-07\",\"2017-08\",\"2017-09\",\"2017-10\",\"2017-11\",\"2017-12\",\"2018-01\",\"2018-02\",\"2018-03\",\"2018-04\",\"2018-05\",\"2018-06\",\"2018-07\",\"2018-08\",\"2018-09\",\"2018-10\",\"2018-11\",\"2018-12\",\"2019-01\",\"2019-02\",\"2019-03\",\"2019-04\",\"2019-05\",\"2019-06\",\"2019-07\",\"2019-08\",\"2019-09\",\"2019-10\",\"2019-11\",\"2019-12\",\"2020-01\",\"2020-02\",\"2020-03\",\"2020-04\",\"2020-05\",\"2020-06\",\"2020-07\",\"2020-08\",\"2020-09\",\"2020-10\",\"2020-11\",\"2020-12\",\"2021-01\",\"2021-02\",\"2021-03\",\"2021-04\",\"2021-05\",\"2021-06\",\"2021-07\",\"2021-08\",\"2021-09\",\"2021-10\",\"2021-11\",\"2021-12\",\"2022-01\",\"2022-02\",\"2022-03\",\"2022-04\",\"2022-05\",\"2022-06\",\"2022-07\",\"2022-08\",\"2022-09\",\"2022-10\",\"2022-11\",\"2022-12\"],\"xaxis\":\"x\",\"y\":[0.0,0.0,0.0,0.0,0.0,1.0,0.0,0.0,0.0,0.0,1.0,2.0,2.0,0.0,0.0,0.0,0.0,0.0,0.0,1.0,0.0,0.0,0.0,0.0,1.0,0.0,2.0,0.0,1.0,2.0,0.0,0.0,3.0,1.0,7.0,0.0,0.0,0.0,0.0,0.0,0.0,0.0,0.0,0.0,0.0,0.0,1.0,1.0,0.0,0.0,0.0,0.0,0.0,0.0,1.0,1.0,0.0,1.0,0.0,2.0,0.0,1.0,0.0,1.0,1.0,1.0,2.0,0.0,2.0,1.0,2.0,4.0,1.0,0.0,1.0,0.0,2.0,2.0,3.0,3.0,2.0,0.0,7.0,1.0,0.0,0.0,0.0,0.0,0.0,2.0,1.0,1.0,1.0,0.0,0.0,0.0,0.0,0.0,1.0,1.0,1.0,1.0,1.0,0.0,2.0,2.0,0.0,0.0,1.0,0.0,1.0,4.0,0.0,1.0,1.0,1.0,0.0,2.0,2.0,1.0],\"yaxis\":\"y\",\"type\":\"scatter\"},{\"hovertemplate\":\"variable=Impacts on humans<br>YearMonth=%{x}<br>value=%{y}<extra></extra>\",\"legendgroup\":\"Impacts on humans\",\"line\":{\"color\":\"rgb(115, 175, 72)\",\"dash\":\"solid\"},\"marker\":{\"symbol\":\"circle\"},\"mode\":\"markers+lines\",\"name\":\"Impacts on humans\",\"orientation\":\"v\",\"showlegend\":true,\"x\":[\"2013-01\",\"2013-02\",\"2013-03\",\"2013-04\",\"2013-05\",\"2013-06\",\"2013-07\",\"2013-08\",\"2013-09\",\"2013-10\",\"2013-11\",\"2013-12\",\"2014-01\",\"2014-02\",\"2014-03\",\"2014-04\",\"2014-05\",\"2014-06\",\"2014-07\",\"2014-08\",\"2014-09\",\"2014-10\",\"2014-11\",\"2014-12\",\"2015-01\",\"2015-02\",\"2015-03\",\"2015-04\",\"2015-05\",\"2015-06\",\"2015-07\",\"2015-08\",\"2015-09\",\"2015-10\",\"2015-11\",\"2015-12\",\"2016-01\",\"2016-02\",\"2016-03\",\"2016-04\",\"2016-05\",\"2016-06\",\"2016-07\",\"2016-08\",\"2016-09\",\"2016-10\",\"2016-11\",\"2016-12\",\"2017-01\",\"2017-02\",\"2017-03\",\"2017-04\",\"2017-05\",\"2017-06\",\"2017-07\",\"2017-08\",\"2017-09\",\"2017-10\",\"2017-11\",\"2017-12\",\"2018-01\",\"2018-02\",\"2018-03\",\"2018-04\",\"2018-05\",\"2018-06\",\"2018-07\",\"2018-08\",\"2018-09\",\"2018-10\",\"2018-11\",\"2018-12\",\"2019-01\",\"2019-02\",\"2019-03\",\"2019-04\",\"2019-05\",\"2019-06\",\"2019-07\",\"2019-08\",\"2019-09\",\"2019-10\",\"2019-11\",\"2019-12\",\"2020-01\",\"2020-02\",\"2020-03\",\"2020-04\",\"2020-05\",\"2020-06\",\"2020-07\",\"2020-08\",\"2020-09\",\"2020-10\",\"2020-11\",\"2020-12\",\"2021-01\",\"2021-02\",\"2021-03\",\"2021-04\",\"2021-05\",\"2021-06\",\"2021-07\",\"2021-08\",\"2021-09\",\"2021-10\",\"2021-11\",\"2021-12\",\"2022-01\",\"2022-02\",\"2022-03\",\"2022-04\",\"2022-05\",\"2022-06\",\"2022-07\",\"2022-08\",\"2022-09\",\"2022-10\",\"2022-11\",\"2022-12\"],\"xaxis\":\"x\",\"y\":[0.0,0.0,0.0,1.0,2.0,2.0,4.0,3.0,9.0,7.0,8.0,3.0,1.0,4.0,4.0,6.0,5.0,7.0,2.0,2.0,11.0,3.0,17.0,17.0,6.0,8.0,12.0,7.0,17.0,17.0,15.0,10.0,21.0,18.0,30.0,20.0,0.0,1.0,3.0,2.0,4.0,2.0,7.0,6.0,4.0,9.0,5.0,6.0,5.0,3.0,6.0,6.0,6.0,11.0,3.0,7.0,10.0,5.0,12.0,16.0,6.0,4.0,3.0,9.0,2.0,5.0,7.0,5.0,8.0,13.0,11.0,19.0,5.0,7.0,8.0,12.0,13.0,4.0,13.0,6.0,12.0,5.0,12.0,10.0,15.0,9.0,10.0,8.0,5.0,7.0,6.0,6.0,13.0,8.0,7.0,12.0,9.0,0.0,6.0,6.0,8.0,8.0,13.0,6.0,8.0,19.0,27.0,6.0,7.0,5.0,16.0,10.0,7.0,19.0,10.0,21.0,18.0,17.0,28.0,14.0],\"yaxis\":\"y\",\"type\":\"scatter\"},{\"hovertemplate\":\"variable=Economic Impacts<br>YearMonth=%{x}<br>value=%{y}<extra></extra>\",\"legendgroup\":\"Economic Impacts\",\"line\":{\"color\":\"rgb(237, 173, 8)\",\"dash\":\"solid\"},\"marker\":{\"symbol\":\"circle\"},\"mode\":\"markers+lines\",\"name\":\"Economic Impacts\",\"orientation\":\"v\",\"showlegend\":true,\"x\":[\"2013-01\",\"2013-02\",\"2013-03\",\"2013-04\",\"2013-05\",\"2013-06\",\"2013-07\",\"2013-08\",\"2013-09\",\"2013-10\",\"2013-11\",\"2013-12\",\"2014-01\",\"2014-02\",\"2014-03\",\"2014-04\",\"2014-05\",\"2014-06\",\"2014-07\",\"2014-08\",\"2014-09\",\"2014-10\",\"2014-11\",\"2014-12\",\"2015-01\",\"2015-02\",\"2015-03\",\"2015-04\",\"2015-05\",\"2015-06\",\"2015-07\",\"2015-08\",\"2015-09\",\"2015-10\",\"2015-11\",\"2015-12\",\"2016-01\",\"2016-02\",\"2016-03\",\"2016-04\",\"2016-05\",\"2016-06\",\"2016-07\",\"2016-08\",\"2016-09\",\"2016-10\",\"2016-11\",\"2016-12\",\"2017-01\",\"2017-02\",\"2017-03\",\"2017-04\",\"2017-05\",\"2017-06\",\"2017-07\",\"2017-08\",\"2017-09\",\"2017-10\",\"2017-11\",\"2017-12\",\"2018-01\",\"2018-02\",\"2018-03\",\"2018-04\",\"2018-05\",\"2018-06\",\"2018-07\",\"2018-08\",\"2018-09\",\"2018-10\",\"2018-11\",\"2018-12\",\"2019-01\",\"2019-02\",\"2019-03\",\"2019-04\",\"2019-05\",\"2019-06\",\"2019-07\",\"2019-08\",\"2019-09\",\"2019-10\",\"2019-11\",\"2019-12\",\"2020-01\",\"2020-02\",\"2020-03\",\"2020-04\",\"2020-05\",\"2020-06\",\"2020-07\",\"2020-08\",\"2020-09\",\"2020-10\",\"2020-11\",\"2020-12\",\"2021-01\",\"2021-02\",\"2021-03\",\"2021-04\",\"2021-05\",\"2021-06\",\"2021-07\",\"2021-08\",\"2021-09\",\"2021-10\",\"2021-11\",\"2021-12\",\"2022-01\",\"2022-02\",\"2022-03\",\"2022-04\",\"2022-05\",\"2022-06\",\"2022-07\",\"2022-08\",\"2022-09\",\"2022-10\",\"2022-11\",\"2022-12\"],\"xaxis\":\"x\",\"y\":[1.0,6.0,2.0,5.0,3.0,3.0,2.0,6.0,2.0,0.0,3.0,2.0,1.0,1.0,0.0,3.0,3.0,6.0,2.0,1.0,5.0,5.0,4.0,3.0,2.0,3.0,5.0,1.0,8.0,6.0,4.0,4.0,5.0,14.0,17.0,24.0,4.0,0.0,1.0,3.0,4.0,2.0,0.0,3.0,6.0,6.0,7.0,3.0,3.0,3.0,3.0,2.0,4.0,7.0,5.0,4.0,6.0,4.0,8.0,7.0,4.0,3.0,2.0,3.0,4.0,5.0,4.0,3.0,8.0,5.0,8.0,11.0,7.0,6.0,9.0,8.0,9.0,9.0,5.0,8.0,4.0,11.0,5.0,11.0,13.0,8.0,2.0,4.0,1.0,11.0,5.0,10.0,9.0,4.0,9.0,14.0,9.0,10.0,5.0,10.0,5.0,9.0,11.0,11.0,11.0,19.0,20.0,7.0,2.0,9.0,7.0,3.0,8.0,17.0,20.0,12.0,13.0,13.0,25.0,6.0],\"yaxis\":\"y\",\"type\":\"scatter\"},{\"hovertemplate\":\"variable=Climate Science & Impacts on the Ecosystem<br>YearMonth=%{x}<br>value=%{y}<extra></extra>\",\"legendgroup\":\"Climate Science & Impacts on the Ecosystem\",\"line\":{\"color\":\"rgb(225, 124, 5)\",\"dash\":\"solid\"},\"marker\":{\"symbol\":\"circle\"},\"mode\":\"markers+lines\",\"name\":\"Climate Science & Impacts on the Ecosystem\",\"orientation\":\"v\",\"showlegend\":true,\"x\":[\"2013-01\",\"2013-02\",\"2013-03\",\"2013-04\",\"2013-05\",\"2013-06\",\"2013-07\",\"2013-08\",\"2013-09\",\"2013-10\",\"2013-11\",\"2013-12\",\"2014-01\",\"2014-02\",\"2014-03\",\"2014-04\",\"2014-05\",\"2014-06\",\"2014-07\",\"2014-08\",\"2014-09\",\"2014-10\",\"2014-11\",\"2014-12\",\"2015-01\",\"2015-02\",\"2015-03\",\"2015-04\",\"2015-05\",\"2015-06\",\"2015-07\",\"2015-08\",\"2015-09\",\"2015-10\",\"2015-11\",\"2015-12\",\"2016-01\",\"2016-02\",\"2016-03\",\"2016-04\",\"2016-05\",\"2016-06\",\"2016-07\",\"2016-08\",\"2016-09\",\"2016-10\",\"2016-11\",\"2016-12\",\"2017-01\",\"2017-02\",\"2017-03\",\"2017-04\",\"2017-05\",\"2017-06\",\"2017-07\",\"2017-08\",\"2017-09\",\"2017-10\",\"2017-11\",\"2017-12\",\"2018-01\",\"2018-02\",\"2018-03\",\"2018-04\",\"2018-05\",\"2018-06\",\"2018-07\",\"2018-08\",\"2018-09\",\"2018-10\",\"2018-11\",\"2018-12\",\"2019-01\",\"2019-02\",\"2019-03\",\"2019-04\",\"2019-05\",\"2019-06\",\"2019-07\",\"2019-08\",\"2019-09\",\"2019-10\",\"2019-11\",\"2019-12\",\"2020-01\",\"2020-02\",\"2020-03\",\"2020-04\",\"2020-05\",\"2020-06\",\"2020-07\",\"2020-08\",\"2020-09\",\"2020-10\",\"2020-11\",\"2020-12\",\"2021-01\",\"2021-02\",\"2021-03\",\"2021-04\",\"2021-05\",\"2021-06\",\"2021-07\",\"2021-08\",\"2021-09\",\"2021-10\",\"2021-11\",\"2021-12\",\"2022-01\",\"2022-02\",\"2022-03\",\"2022-04\",\"2022-05\",\"2022-06\",\"2022-07\",\"2022-08\",\"2022-09\",\"2022-10\",\"2022-11\",\"2022-12\"],\"xaxis\":\"x\",\"y\":[0.0,0.0,0.0,1.0,2.0,0.0,1.0,3.0,8.0,2.0,4.0,0.0,0.0,3.0,1.0,0.0,3.0,0.0,2.0,0.0,3.0,0.0,4.0,8.0,5.0,6.0,2.0,6.0,6.0,14.0,4.0,4.0,4.0,11.0,10.0,10.0,5.0,1.0,0.0,2.0,2.0,3.0,0.0,7.0,4.0,3.0,7.0,3.0,2.0,3.0,4.0,1.0,1.0,9.0,5.0,3.0,3.0,2.0,5.0,4.0,3.0,5.0,2.0,0.0,4.0,4.0,7.0,4.0,6.0,8.0,5.0,10.0,4.0,5.0,5.0,7.0,7.0,9.0,5.0,13.0,6.0,8.0,7.0,13.0,8.0,8.0,2.0,2.0,7.0,5.0,5.0,5.0,14.0,10.0,9.0,12.0,12.0,6.0,6.0,11.0,5.0,7.0,10.0,7.0,11.0,24.0,9.0,6.0,2.0,5.0,4.0,7.0,11.0,7.0,8.0,8.0,14.0,9.0,15.0,12.0],\"yaxis\":\"y\",\"type\":\"scatter\"}],                        {\"template\":{\"data\":{\"histogram2dcontour\":[{\"type\":\"histogram2dcontour\",\"colorbar\":{\"outlinewidth\":0,\"ticks\":\"\"},\"colorscale\":[[0.0,\"#0d0887\"],[0.1111111111111111,\"#46039f\"],[0.2222222222222222,\"#7201a8\"],[0.3333333333333333,\"#9c179e\"],[0.4444444444444444,\"#bd3786\"],[0.5555555555555556,\"#d8576b\"],[0.6666666666666666,\"#ed7953\"],[0.7777777777777778,\"#fb9f3a\"],[0.8888888888888888,\"#fdca26\"],[1.0,\"#f0f921\"]]}],\"choropleth\":[{\"type\":\"choropleth\",\"colorbar\":{\"outlinewidth\":0,\"ticks\":\"\"}}],\"histogram2d\":[{\"type\":\"histogram2d\",\"colorbar\":{\"outlinewidth\":0,\"ticks\":\"\"},\"colorscale\":[[0.0,\"#0d0887\"],[0.1111111111111111,\"#46039f\"],[0.2222222222222222,\"#7201a8\"],[0.3333333333333333,\"#9c179e\"],[0.4444444444444444,\"#bd3786\"],[0.5555555555555556,\"#d8576b\"],[0.6666666666666666,\"#ed7953\"],[0.7777777777777778,\"#fb9f3a\"],[0.8888888888888888,\"#fdca26\"],[1.0,\"#f0f921\"]]}],\"heatmap\":[{\"type\":\"heatmap\",\"colorbar\":{\"outlinewidth\":0,\"ticks\":\"\"},\"colorscale\":[[0.0,\"#0d0887\"],[0.1111111111111111,\"#46039f\"],[0.2222222222222222,\"#7201a8\"],[0.3333333333333333,\"#9c179e\"],[0.4444444444444444,\"#bd3786\"],[0.5555555555555556,\"#d8576b\"],[0.6666666666666666,\"#ed7953\"],[0.7777777777777778,\"#fb9f3a\"],[0.8888888888888888,\"#fdca26\"],[1.0,\"#f0f921\"]]}],\"heatmapgl\":[{\"type\":\"heatmapgl\",\"colorbar\":{\"outlinewidth\":0,\"ticks\":\"\"},\"colorscale\":[[0.0,\"#0d0887\"],[0.1111111111111111,\"#46039f\"],[0.2222222222222222,\"#7201a8\"],[0.3333333333333333,\"#9c179e\"],[0.4444444444444444,\"#bd3786\"],[0.5555555555555556,\"#d8576b\"],[0.6666666666666666,\"#ed7953\"],[0.7777777777777778,\"#fb9f3a\"],[0.8888888888888888,\"#fdca26\"],[1.0,\"#f0f921\"]]}],\"contourcarpet\":[{\"type\":\"contourcarpet\",\"colorbar\":{\"outlinewidth\":0,\"ticks\":\"\"}}],\"contour\":[{\"type\":\"contour\",\"colorbar\":{\"outlinewidth\":0,\"ticks\":\"\"},\"colorscale\":[[0.0,\"#0d0887\"],[0.1111111111111111,\"#46039f\"],[0.2222222222222222,\"#7201a8\"],[0.3333333333333333,\"#9c179e\"],[0.4444444444444444,\"#bd3786\"],[0.5555555555555556,\"#d8576b\"],[0.6666666666666666,\"#ed7953\"],[0.7777777777777778,\"#fb9f3a\"],[0.8888888888888888,\"#fdca26\"],[1.0,\"#f0f921\"]]}],\"surface\":[{\"type\":\"surface\",\"colorbar\":{\"outlinewidth\":0,\"ticks\":\"\"},\"colorscale\":[[0.0,\"#0d0887\"],[0.1111111111111111,\"#46039f\"],[0.2222222222222222,\"#7201a8\"],[0.3333333333333333,\"#9c179e\"],[0.4444444444444444,\"#bd3786\"],[0.5555555555555556,\"#d8576b\"],[0.6666666666666666,\"#ed7953\"],[0.7777777777777778,\"#fb9f3a\"],[0.8888888888888888,\"#fdca26\"],[1.0,\"#f0f921\"]]}],\"mesh3d\":[{\"type\":\"mesh3d\",\"colorbar\":{\"outlinewidth\":0,\"ticks\":\"\"}}],\"scatter\":[{\"fillpattern\":{\"fillmode\":\"overlay\",\"size\":10,\"solidity\":0.2},\"type\":\"scatter\"}],\"parcoords\":[{\"type\":\"parcoords\",\"line\":{\"colorbar\":{\"outlinewidth\":0,\"ticks\":\"\"}}}],\"scatterpolargl\":[{\"type\":\"scatterpolargl\",\"marker\":{\"colorbar\":{\"outlinewidth\":0,\"ticks\":\"\"}}}],\"bar\":[{\"error_x\":{\"color\":\"#2a3f5f\"},\"error_y\":{\"color\":\"#2a3f5f\"},\"marker\":{\"line\":{\"color\":\"#E5ECF6\",\"width\":0.5},\"pattern\":{\"fillmode\":\"overlay\",\"size\":10,\"solidity\":0.2}},\"type\":\"bar\"}],\"scattergeo\":[{\"type\":\"scattergeo\",\"marker\":{\"colorbar\":{\"outlinewidth\":0,\"ticks\":\"\"}}}],\"scatterpolar\":[{\"type\":\"scatterpolar\",\"marker\":{\"colorbar\":{\"outlinewidth\":0,\"ticks\":\"\"}}}],\"histogram\":[{\"marker\":{\"pattern\":{\"fillmode\":\"overlay\",\"size\":10,\"solidity\":0.2}},\"type\":\"histogram\"}],\"scattergl\":[{\"type\":\"scattergl\",\"marker\":{\"colorbar\":{\"outlinewidth\":0,\"ticks\":\"\"}}}],\"scatter3d\":[{\"type\":\"scatter3d\",\"line\":{\"colorbar\":{\"outlinewidth\":0,\"ticks\":\"\"}},\"marker\":{\"colorbar\":{\"outlinewidth\":0,\"ticks\":\"\"}}}],\"scattermapbox\":[{\"type\":\"scattermapbox\",\"marker\":{\"colorbar\":{\"outlinewidth\":0,\"ticks\":\"\"}}}],\"scatterternary\":[{\"type\":\"scatterternary\",\"marker\":{\"colorbar\":{\"outlinewidth\":0,\"ticks\":\"\"}}}],\"scattercarpet\":[{\"type\":\"scattercarpet\",\"marker\":{\"colorbar\":{\"outlinewidth\":0,\"ticks\":\"\"}}}],\"carpet\":[{\"aaxis\":{\"endlinecolor\":\"#2a3f5f\",\"gridcolor\":\"white\",\"linecolor\":\"white\",\"minorgridcolor\":\"white\",\"startlinecolor\":\"#2a3f5f\"},\"baxis\":{\"endlinecolor\":\"#2a3f5f\",\"gridcolor\":\"white\",\"linecolor\":\"white\",\"minorgridcolor\":\"white\",\"startlinecolor\":\"#2a3f5f\"},\"type\":\"carpet\"}],\"table\":[{\"cells\":{\"fill\":{\"color\":\"#EBF0F8\"},\"line\":{\"color\":\"white\"}},\"header\":{\"fill\":{\"color\":\"#C8D4E3\"},\"line\":{\"color\":\"white\"}},\"type\":\"table\"}],\"barpolar\":[{\"marker\":{\"line\":{\"color\":\"#E5ECF6\",\"width\":0.5},\"pattern\":{\"fillmode\":\"overlay\",\"size\":10,\"solidity\":0.2}},\"type\":\"barpolar\"}],\"pie\":[{\"automargin\":true,\"type\":\"pie\"}]},\"layout\":{\"autotypenumbers\":\"strict\",\"colorway\":[\"#636efa\",\"#EF553B\",\"#00cc96\",\"#ab63fa\",\"#FFA15A\",\"#19d3f3\",\"#FF6692\",\"#B6E880\",\"#FF97FF\",\"#FECB52\"],\"font\":{\"color\":\"#2a3f5f\"},\"hovermode\":\"closest\",\"hoverlabel\":{\"align\":\"left\"},\"paper_bgcolor\":\"white\",\"plot_bgcolor\":\"#E5ECF6\",\"polar\":{\"bgcolor\":\"#E5ECF6\",\"angularaxis\":{\"gridcolor\":\"white\",\"linecolor\":\"white\",\"ticks\":\"\"},\"radialaxis\":{\"gridcolor\":\"white\",\"linecolor\":\"white\",\"ticks\":\"\"}},\"ternary\":{\"bgcolor\":\"#E5ECF6\",\"aaxis\":{\"gridcolor\":\"white\",\"linecolor\":\"white\",\"ticks\":\"\"},\"baxis\":{\"gridcolor\":\"white\",\"linecolor\":\"white\",\"ticks\":\"\"},\"caxis\":{\"gridcolor\":\"white\",\"linecolor\":\"white\",\"ticks\":\"\"}},\"coloraxis\":{\"colorbar\":{\"outlinewidth\":0,\"ticks\":\"\"}},\"colorscale\":{\"sequential\":[[0.0,\"#0d0887\"],[0.1111111111111111,\"#46039f\"],[0.2222222222222222,\"#7201a8\"],[0.3333333333333333,\"#9c179e\"],[0.4444444444444444,\"#bd3786\"],[0.5555555555555556,\"#d8576b\"],[0.6666666666666666,\"#ed7953\"],[0.7777777777777778,\"#fb9f3a\"],[0.8888888888888888,\"#fdca26\"],[1.0,\"#f0f921\"]],\"sequentialminus\":[[0.0,\"#0d0887\"],[0.1111111111111111,\"#46039f\"],[0.2222222222222222,\"#7201a8\"],[0.3333333333333333,\"#9c179e\"],[0.4444444444444444,\"#bd3786\"],[0.5555555555555556,\"#d8576b\"],[0.6666666666666666,\"#ed7953\"],[0.7777777777777778,\"#fb9f3a\"],[0.8888888888888888,\"#fdca26\"],[1.0,\"#f0f921\"]],\"diverging\":[[0,\"#8e0152\"],[0.1,\"#c51b7d\"],[0.2,\"#de77ae\"],[0.3,\"#f1b6da\"],[0.4,\"#fde0ef\"],[0.5,\"#f7f7f7\"],[0.6,\"#e6f5d0\"],[0.7,\"#b8e186\"],[0.8,\"#7fbc41\"],[0.9,\"#4d9221\"],[1,\"#276419\"]]},\"xaxis\":{\"gridcolor\":\"white\",\"linecolor\":\"white\",\"ticks\":\"\",\"title\":{\"standoff\":15},\"zerolinecolor\":\"white\",\"automargin\":true,\"zerolinewidth\":2},\"yaxis\":{\"gridcolor\":\"white\",\"linecolor\":\"white\",\"ticks\":\"\",\"title\":{\"standoff\":15},\"zerolinecolor\":\"white\",\"automargin\":true,\"zerolinewidth\":2},\"scene\":{\"xaxis\":{\"backgroundcolor\":\"#E5ECF6\",\"gridcolor\":\"white\",\"linecolor\":\"white\",\"showbackground\":true,\"ticks\":\"\",\"zerolinecolor\":\"white\",\"gridwidth\":2},\"yaxis\":{\"backgroundcolor\":\"#E5ECF6\",\"gridcolor\":\"white\",\"linecolor\":\"white\",\"showbackground\":true,\"ticks\":\"\",\"zerolinecolor\":\"white\",\"gridwidth\":2},\"zaxis\":{\"backgroundcolor\":\"#E5ECF6\",\"gridcolor\":\"white\",\"linecolor\":\"white\",\"showbackground\":true,\"ticks\":\"\",\"zerolinecolor\":\"white\",\"gridwidth\":2}},\"shapedefaults\":{\"line\":{\"color\":\"#2a3f5f\"}},\"annotationdefaults\":{\"arrowcolor\":\"#2a3f5f\",\"arrowhead\":0,\"arrowwidth\":1},\"geo\":{\"bgcolor\":\"white\",\"landcolor\":\"#E5ECF6\",\"subunitcolor\":\"white\",\"showland\":true,\"showlakes\":true,\"lakecolor\":\"white\"},\"title\":{\"x\":0.05},\"mapbox\":{\"style\":\"light\"}}},\"xaxis\":{\"anchor\":\"y\",\"domain\":[0.0,1.0],\"title\":{\"text\":\"Date\"},\"ticklabelmode\":\"period\",\"range\":[\"2013-01\",\"2022-12\"]},\"yaxis\":{\"anchor\":\"x\",\"domain\":[0.0,1.0],\"title\":{\"text\":\"Number of articles\"}},\"legend\":{\"title\":{},\"tracegroupgap\":0,\"font\":{\"size\":16},\"yanchor\":\"top\",\"y\":0.99,\"xanchor\":\"left\",\"x\":0.01},\"title\":{\"text\":\"Number of articles per theme, all journals\"}},                        {\"responsive\": true}                    ).then(function(){\n",
              "                            \n",
              "var gd = document.getElementById('f8cf33fd-5417-4172-8aff-1a69b6607157');\n",
              "var x = new MutationObserver(function (mutations, observer) {{\n",
              "        var display = window.getComputedStyle(gd).display;\n",
              "        if (!display || display === 'none') {{\n",
              "            console.log([gd, 'removed!']);\n",
              "            Plotly.purge(gd);\n",
              "            observer.disconnect();\n",
              "        }}\n",
              "}});\n",
              "\n",
              "// Listen for the removal of the full notebook cells\n",
              "var notebookContainer = gd.closest('#notebook-container');\n",
              "if (notebookContainer) {{\n",
              "    x.observe(notebookContainer, {childList: true});\n",
              "}}\n",
              "\n",
              "// Listen for the clearing of the current output cell\n",
              "var outputEl = gd.closest('.output');\n",
              "if (outputEl) {{\n",
              "    x.observe(outputEl, {childList: true});\n",
              "}}\n",
              "\n",
              "                        })                };                            </script>        </div>\n",
              "</body>\n",
              "</html>"
            ]
          },
          "metadata": {}
        }
      ]
    },
    {
      "cell_type": "markdown",
      "source": [
        "# A bit of statistics"
      ],
      "metadata": {
        "id": "Z3Oc5_kFUQCB"
      }
    },
    {
      "cell_type": "code",
      "source": [
        "# percentage of articles per theme\n",
        "for i in range(2, 41):\n",
        "  print('{}:{} '.format(all_themes.columns[i], round(all_themes[all_themes.columns[i]].sum()/len(all_docs)*100, 2)))"
      ],
      "metadata": {
        "colab": {
          "base_uri": "https://localhost:8080/"
        },
        "id": "kYvVb3KLsdCs",
        "outputId": "458421ff-d764-4d71-f9dd-511f8a022318"
      },
      "execution_count": null,
      "outputs": [
        {
          "output_type": "stream",
          "name": "stdout",
          "text": [
            "0_cop_paris_changement_accord:20.64 \n",
            "1_carbone_france_gaz effet de_émissions de:8.75 \n",
            "2_europe_union_bruxelles_émissions de:5.75 \n",
            "3_joe biden_américain_son_plan:6.59 \n",
            "4_macron_les villes_entreprises_dollars:4.13 \n",
            "5_bolsonaro_changement_brésil_ne:3.21 \n",
            "6_des glaciers_stations_les alpes_glaces:2.93 \n",
            "7_inondations_phénomènes_eaux_par le:3.33 \n",
            "8_bce_banque centrale_christine lagarde_politique monétaire:1.61 \n",
            "9_chinois_jinping_pic_la chine et:3.62 \n",
            "10_émissions de_de gaz_effet de serre_gaz effet de:3.25 \n",
            "11_déforestation_les forêts_pompiers_tropicales:1.65 \n",
            "12_angela merkel_ses_chancelière_respecter ses engagements:1.55 \n",
            "13_oiseaux_invasives_exotiques_pollution:1.97 \n",
            "14_climat australie_incendies_abbott_par habitant:1.75 \n",
            "15_énergie nucléaire_atome_nucléaire qui_japon:1.31 \n",
            "16_premières victimes_enfants_santé mentale_pandémie:2.62 \n",
            "17_vaches_de élevage_14 des_production de viande:1.01 \n",
            "18_navires_le diesel_volkswagen_constructeurs:0.84 \n",
            "19_au moins 40_un esprit_40 les émissions_de justice sociale:2.37 \n",
            "20_la plus chaude_copernicus_record_européen copernicus:1.78 \n",
            "21_glaciologie_température_surface_années 1990 aux:0.79 \n",
            "22_vanuatu_qui subit_petites îles_continent africain:1.61 \n",
            "23_transport aérien_les avions_le kérosène_aéroport de:0.45 \n",
            "24_banques_les banques centrales_centrales_risques financiers:0.83 \n",
            "25_famine_madagascar_kenya_milliards habitants:1.02 \n",
            "26_actionnaires_exxonmobil_pétrolier_majors:1.13 \n",
            "27_communautés locales agissent_climatique vid_en croissance_économie circulaire est:1.24 \n",
            "28_océans en_île_courants_du niveau des:1.51 \n",
            "29_justin trudeau_justin_harper_oléoduc géant:1.35 \n",
            "30_les vins_bordeaux_vigne et du_viticole française:0.62 \n",
            "31_barrière_barrière de corail_récifs_récifs coralliens:0.84 \n",
            "32_rénovation_rénovation énergétique_électricité_énergie en france:0.76 \n",
            "33_bangladesh_les réfugiés climatiques_climatique crée plus_utilise étranger comme:1.17 \n",
            "34_tourisme est responsable_crémation_hébergement_voyages:0.35 \n",
            "35_concentrations de gaz_ppm_record_année les concentrations:1.43 \n",
            "36_stables_les émissions mondiales_vont continuer grimper_37 ici:3.11 \n",
            "37_climatique hydrogène vert_électrolyse_être produit_azotés:0.31 \n",
            "38_climatique notre_droit reste identifié_mouvements migratoires dans_monde gouverné en:0.84 \n"
          ]
        }
      ]
    }
  ],
  "metadata": {
    "kernelspec": {
      "display_name": "Python 3",
      "language": "python",
      "name": "python3"
    },
    "language_info": {
      "codemirror_mode": {
        "name": "ipython",
        "version": 3
      },
      "file_extension": ".py",
      "mimetype": "text/x-python",
      "name": "python",
      "nbconvert_exporter": "python",
      "pygments_lexer": "ipython3",
      "version": "3.8.5"
    },
    "colab": {
      "provenance": []
    },
    "gpuClass": "standard"
  },
  "nbformat": 4,
  "nbformat_minor": 0
}